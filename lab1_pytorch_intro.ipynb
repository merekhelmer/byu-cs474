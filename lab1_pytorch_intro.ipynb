{
  "cells": [
    {
      "cell_type": "markdown",
      "metadata": {
        "id": "Rso9_3V_aaTA"
      },
      "source": [
        "[![Open In Colab](https://colab.research.google.com/assets/colab-badge.svg)](https://colab.research.google.com/github/porterjenkins/byu-cs474/blob/master/lab1_pytorch_intro.ipynb)"
      ]
    },
    {
      "cell_type": "markdown",
      "metadata": {
        "id": "FYabkPq6Osas"
      },
      "source": [
        "# Deep Learning Part 1: PyTorch, Autodifferentiation, and Optimization\n",
        "\n",
        "---\n",
        "\n",
        "While these labs can be completed on your own computer using Jupyter, we suggest using Google Colab. Colab provides a standardized virtual environment and allows you to request a GPU, which will let you perform deep learning much faster. If you choose to do these labs on your own computer, you may have to do extra work in getting your CUDA-compatible GPU working and getting the right versions of the packages for the labs.\n",
        "\n",
        "We won't use GPUs for this lab, but it will be vital to speed up training in some of the future labs."
      ]
    },
    {
      "cell_type": "markdown",
      "metadata": {
        "id": "F7yAMqLfOquC"
      },
      "source": [
        "# Preface: Jupyter Notebooks"
      ]
    },
    {
      "cell_type": "markdown",
      "metadata": {
        "id": "0a6MTkmnOquF"
      },
      "source": [
        "All of your labs will utilize jupyter notebooks, which are useful tools, but they have one big side effect: hidden states. Jupyter notebooks store the state of an executed cell, which can spell problems if you are not careful. To see what we mean execute cell 1 and cell 2."
      ]
    },
    {
      "cell_type": "code",
      "execution_count": 1,
      "metadata": {
        "id": "jmumQeH9OquF"
      },
      "outputs": [],
      "source": [
        "# cell 1\n",
        "x = 0"
      ]
    },
    {
      "cell_type": "code",
      "execution_count": 5,
      "metadata": {
        "id": "psSQuB-TOquG"
      },
      "outputs": [],
      "source": [
        "# cell 2\n",
        "x += 1"
      ]
    },
    {
      "cell_type": "markdown",
      "metadata": {
        "id": "m7FvNaj-OquH"
      },
      "source": [
        "Now print `x` below and validate that it equals 1."
      ]
    },
    {
      "cell_type": "code",
      "execution_count": 3,
      "metadata": {
        "id": "PV64iTjhOquH",
        "colab": {
          "base_uri": "https://localhost:8080/"
        },
        "outputId": "db091758-0ff3-4640-808d-58f11c645e7b"
      },
      "outputs": [
        {
          "output_type": "stream",
          "name": "stdout",
          "text": [
            "1\n"
          ]
        }
      ],
      "source": [
        "print(x)"
      ]
    },
    {
      "cell_type": "markdown",
      "metadata": {
        "id": "WxyZtWTeOquI"
      },
      "source": [
        "Now execute cell 2 again and print `x` below"
      ]
    },
    {
      "cell_type": "code",
      "execution_count": 6,
      "metadata": {
        "id": "G8Wpn0YEOquI",
        "colab": {
          "base_uri": "https://localhost:8080/"
        },
        "outputId": "92203efa-f15a-4037-a2ad-0cdd95784147"
      },
      "outputs": [
        {
          "output_type": "stream",
          "name": "stdout",
          "text": [
            "2\n"
          ]
        }
      ],
      "source": [
        "print(x)"
      ]
    },
    {
      "cell_type": "markdown",
      "metadata": {
        "id": "OlXeevt7OquJ"
      },
      "source": [
        "This time `x` equals 2, which makes sense because we incremented it twice, but if an outsider looked at this code sequentially it would seem weird that x prints out 1 and 2. Since the state is hidden, an outsider can't assume code cells are run in sequential order, or that the cells weren't edited after being run.\n",
        "\n",
        "Jupyter notebooks are great for development: letting you quickly iterate on a program without executing everything sequentially, but at some point you may run into an issue with hidden state.\n",
        "\n",
        "There are two ways to reset the hidden state in this example. The quickest would be to execute cell 1 again which would reset `x` back to 0. Then if you execute cell 2 and print `x` twice with the two statements below, they should both output 1.\n",
        "\n",
        "To fully reset the state, just restart your Jupyter notebook runtime/session. This erases all data in RAM, but keeps anything stored on disk (installs, datasets, etc.). When you disconnect from the session in Colab, it deletes everything except for what is saved in your notebook file: code, text, and outputs."
      ]
    },
    {
      "cell_type": "markdown",
      "metadata": {
        "id": "hiquMGSKOquL"
      },
      "source": [
        "---\n",
        "\n",
        "# What is PyTorch and Automatic Differentiation"
      ]
    },
    {
      "cell_type": "code",
      "execution_count": 7,
      "metadata": {
        "id": "YedNwhuoOquL"
      },
      "outputs": [],
      "source": [
        "import torch"
      ]
    },
    {
      "cell_type": "markdown",
      "metadata": {
        "id": "4Mwd_l3-OquM"
      },
      "source": [
        "## Part 1: Tensors and Array Operations"
      ]
    },
    {
      "cell_type": "markdown",
      "metadata": {
        "id": "PHvGT9ceOquM"
      },
      "source": [
        "Some of you may already be familiar with NumPy or vector math and so this should be a simple and brief overview.\n",
        "\n",
        "PyTorch tries to be as close to NumPy as possible."
      ]
    },
    {
      "cell_type": "markdown",
      "metadata": {
        "id": "xdxCQ0gYOquN"
      },
      "source": [
        "### Tensor creation, shapes, and data types\n",
        "\n",
        "Tensors are n-dimensional containers: 0D tensors are scalars, 1D tensors are vectors, and 2D tensors are matrices. We'll often work with tensors with more than 2 dimensions.\n",
        "\n",
        "Let start by creating a simple tensor.\n",
        "Pass in the array `[1, 2]` into the `torch.tensor()` function and store the tensor as variable `v`."
      ]
    },
    {
      "cell_type": "code",
      "execution_count": 8,
      "metadata": {
        "id": "hD19cj9tOquN"
      },
      "outputs": [],
      "source": [
        "v = torch.tensor([1, 2])"
      ]
    },
    {
      "cell_type": "markdown",
      "metadata": {
        "id": "iKZqsb2yOquN"
      },
      "source": [
        "Let us look at shape and data type of `v`.\n",
        "You can view the shape of `v` with `v.shape` or calling `v.size()` and you can look at the data type of `v` with `v.dtype`.\n",
        "\n",
        "Print the shape and data type of `v` below."
      ]
    },
    {
      "cell_type": "code",
      "execution_count": 14,
      "metadata": {
        "id": "FILMXnbmOquO",
        "colab": {
          "base_uri": "https://localhost:8080/"
        },
        "outputId": "b0795f06-adca-4b76-fc7d-dce9c15b95d6"
      },
      "outputs": [
        {
          "output_type": "stream",
          "name": "stdout",
          "text": [
            "torch.Size([2])\n",
            "torch.int64\n"
          ]
        }
      ],
      "source": [
        "print(v.shape)\n",
        "print(v.dtype)"
      ]
    },
    {
      "cell_type": "markdown",
      "metadata": {
        "id": "2-ZYtRxPOquO"
      },
      "source": [
        "We see that that the shape of `v.shape = torch.Size([2])` and its dtype is `torch.int64`.\n",
        "\n",
        "Initialize a new tensor `w` with the following array `[[1.0], [2.0]]` and print out its shape and dtype."
      ]
    },
    {
      "cell_type": "code",
      "execution_count": 15,
      "metadata": {
        "id": "8CEuvIr9OquO",
        "colab": {
          "base_uri": "https://localhost:8080/"
        },
        "outputId": "16e0eaaf-ea3f-411d-a908-921241543a9c"
      },
      "outputs": [
        {
          "output_type": "stream",
          "name": "stdout",
          "text": [
            "torch.Size([2, 1])\n",
            "torch.float32\n"
          ]
        }
      ],
      "source": [
        "w =  torch.tensor([[1.0], [2.0]])\n",
        "\n",
        "print(w.shape)\n",
        "print(w.dtype)"
      ]
    },
    {
      "cell_type": "markdown",
      "metadata": {
        "id": "Ij9Ek7qhOquO"
      },
      "source": [
        "This time our tensor has a shape of `torch.Size([2, 1])` and its dtype is `torch.float32`."
      ]
    },
    {
      "cell_type": "markdown",
      "metadata": {
        "id": "iZ41g6YqOquO"
      },
      "source": [
        "Let's now change `v` to look like `w`.\n",
        "First we will try to make `v` share the same shape as `w`. `v` has 1 dimension and `w` has 2.\n",
        "Both `v` and `w` have a value of 2 in dimension 0 (using 0-based indexing) and `w` has a value of 1 in dimension 1.\n",
        "\n",
        "To add a dimension to `v` we can call the `v.unsqueeze()` function.\n",
        "It takes in a dimension argument (`dim`) specifying where we want to add the dimension.\n",
        "Because `v` is missing its dimension 1, specify `1` as the `dim` argument.\n",
        "\n",
        "*Note: `.unsqueeze()` returns a reshaped tensor and doesn't modify `v`.*\n",
        "\n",
        "Do not modify `v` and assign the unsqueezed tensor to the `answer` variable."
      ]
    },
    {
      "cell_type": "code",
      "execution_count": 17,
      "metadata": {
        "id": "cfzdW8DoOquO"
      },
      "outputs": [],
      "source": [
        "answer = v.unsqueeze(1)\n",
        "\n",
        "assert answer.shape == w.shape == torch.Size([2, 1])\n",
        "assert v.shape == torch.Size([2])"
      ]
    },
    {
      "cell_type": "markdown",
      "metadata": {
        "id": "Jb8Xg05hOquP"
      },
      "source": [
        "Now let's change the `v`'s data type. This easiest method is to call is the `.float()` function.\n",
        "\n",
        "*Note: Like `.unsqueeze()`, `.float()` returns a new tensor with the specified dtype and doesn't modify `v`*.\n",
        "Do not modify v and assign the float tensor to the `answer` variable."
      ]
    },
    {
      "cell_type": "code",
      "execution_count": 18,
      "metadata": {
        "id": "9B4G9NJ_OquP"
      },
      "outputs": [],
      "source": [
        "answer = v.float() # replace None with your solution\n",
        "\n",
        "assert answer.dtype == w.dtype == torch.float32\n",
        "assert v.dtype == torch.int64"
      ]
    },
    {
      "cell_type": "markdown",
      "metadata": {
        "id": "S1FoaU2NOquP"
      },
      "source": [
        "Now let's change `w` to look like `v`, but this time let's do it in one line.\n",
        "\n",
        "First we should change `w`'s dimensions so it matches `v`.\n",
        "To remove a dimension we can call the `.squeeze()` function and specify the dimension we want to remove.\n",
        "This will only remove the dimension if it has **value of 1**, if you squeeze a dimension with a value >1, then nothing changes.\n",
        "If you do not specify a dimension, all dimensions with a value of 1 are removed.\n",
        "**It is good coding practice to specify the dimension.**\n",
        "\n",
        "To make `w` share the same dtype as `v` we can use the `.long()` (because a long is a 64-bit integer).\n",
        "\n",
        "Now convert `w` to have the same shape and dtype as `v`, in 1 line of code. Remember `.squeeze()` and `.long()` returns tensors so you can chain the functions."
      ]
    },
    {
      "cell_type": "code",
      "execution_count": 21,
      "metadata": {
        "id": "4fylIEn8OquQ"
      },
      "outputs": [],
      "source": [
        "answer = w.squeeze(1).long() # replace None with your solution\n",
        "\n",
        "assert answer.shape == v.shape == torch.Size([2])\n",
        "assert answer.dtype == v.dtype == torch.int64"
      ]
    },
    {
      "cell_type": "markdown",
      "metadata": {
        "id": "3nseyumWOquQ"
      },
      "source": [
        "While there are many other dtypes, `torch.float32` and `torch.int64` are the main ones you will encounter."
      ]
    },
    {
      "cell_type": "markdown",
      "metadata": {
        "id": "bXyNW0IhOquQ"
      },
      "source": [
        "There are a few other helpful tensor creation functions."
      ]
    },
    {
      "cell_type": "code",
      "execution_count": 22,
      "metadata": {
        "id": "wugxs7bcOquQ",
        "colab": {
          "base_uri": "https://localhost:8080/"
        },
        "outputId": "291adaf4-c07c-4b74-baba-32d1f1afdb76"
      },
      "outputs": [
        {
          "output_type": "stream",
          "name": "stdout",
          "text": [
            "Zeros:  tensor([[0., 0., 0.],\n",
            "        [0., 0., 0.],\n",
            "        [0., 0., 0.]])\n",
            "Ones:  tensor([1., 1.])\n",
            "Full:  tensor([[-1],\n",
            "        [-1],\n",
            "        [-1]])\n",
            "Rand:  tensor([[0.3515, 0.1982],\n",
            "        [0.6544, 0.3578]])\n",
            "Randn:  tensor([[-0.0666,  0.4762],\n",
            "        [-0.4302,  0.8417]])\n",
            "Zeros like:  tensor([0, 0])\n"
          ]
        }
      ],
      "source": [
        "print('Zeros: ', torch.zeros(size=(3, 3))) # returns a 3x3 tensor filled with 0's\n",
        "print('Ones: ', torch.ones(2)) # returns a tensor with shape (3,) filled with 1's\n",
        "print('Full: ', torch.full((3, 1), fill_value=-1)) # returns a tensor with shape (3,) filled with -1's\n",
        "print('Rand: ', torch.rand(size=(2, 2))) # returns a 2x2 tensor filled with (uniform) random floats between 0 and 1\n",
        "print('Randn: ', torch.randn(size=(2,2))) # returns a 2x2 tensors filled with random floats drawn from a standard normal distribution\n",
        "\n",
        "print('Zeros like: ', torch.zeros_like(v)) # returns a tensor with the same shape and dtype as v, but filled with 0's.\n",
        "# You could similarly call ones_like(), full_like(), rand_like()"
      ]
    },
    {
      "cell_type": "markdown",
      "metadata": {
        "id": "fd4FzZLaOquR"
      },
      "source": [
        "You can also easily create a tensor with a sequence of integers with the `torch.arange()` function. Just like Python's `range()` function you can specify where the sequence should start, end, and the sequence step size."
      ]
    },
    {
      "cell_type": "code",
      "execution_count": 23,
      "metadata": {
        "id": "iLiKqVObOquS",
        "colab": {
          "base_uri": "https://localhost:8080/"
        },
        "outputId": "9f974273-0740-443c-b3b3-5a75fb059c4a"
      },
      "outputs": [
        {
          "output_type": "stream",
          "name": "stdout",
          "text": [
            "tensor([0, 1, 2, 3, 4, 5])\n",
            "tensor([1, 2, 3, 4, 5, 6])\n",
            "tensor([1, 3, 5])\n"
          ]
        }
      ],
      "source": [
        "print(torch.arange(6)) # returns a tensor with shape (6,) containing a sequence from 0 to 6 (exclusive), i.e. [0, 1, 2, 3, 4, 5]\n",
        "print(torch.arange(1, 7)) # returns a tensor with shape (6,) containing a sequence from 1 to 7 (exclusive), i.e. [1, 2, 3, 4, 5, 6]\n",
        "print(torch.arange(1, 7, 2)) # returns a tensor with shape (6,) containing sequence [1, 3, 5]"
      ]
    },
    {
      "cell_type": "markdown",
      "metadata": {
        "id": "Q7dgX7SlOquS"
      },
      "source": [
        "### Changing shapes"
      ]
    },
    {
      "cell_type": "markdown",
      "metadata": {
        "id": "pKGdsuSaOquT"
      },
      "source": [
        "We have explained how you can add or remove dimensions to a tensor with `.unsqueeze()` and `.squeeze()`.\n",
        "But what if we want reshape a tensor?\n",
        "\n",
        "Using the `torch.arange()` function, create a tensor, named `x`, containing a sequence from 0 to 12 (exclusive)"
      ]
    },
    {
      "cell_type": "code",
      "execution_count": 58,
      "metadata": {
        "id": "vrGpHdRjOquT"
      },
      "outputs": [],
      "source": [
        "x = torch.arange(12) # replace None with your solution\n",
        "\n",
        "assert x.equal(torch.tensor([0, 1, 2, 3, 4, 5, 6, 7, 8, 9, 10, 11]))"
      ]
    },
    {
      "cell_type": "markdown",
      "metadata": {
        "id": "9GKaLp7yOquT"
      },
      "source": [
        "Let's say we want to change our tensor sequence (vector) into a matrix such that: $$\\begin{bmatrix} 0 & 1 & 2 & 3 & 4 & 5 & 6 & 7 & 8 & 9 & 10 & 11 \\end{bmatrix} \\rightarrow \\begin{bmatrix} 0 & 1 & 2 & 3 \\\\ 4 & 5 & 6 & 7 \\\\ 8 & 9 & 10 & 11 \\end{bmatrix}$$\n",
        "\n",
        "This matrix has 3 rows and 4 columns, i.e. shape=(3,4), so we can call the `.view()` function and specify the shape we want to view sequence of data.\n",
        "**Note: `.view()` returns a tensor*. Do **not** overwrite `x`, just print out `x.view(3, 4)` and validate that we get the desired matrix."
      ]
    },
    {
      "cell_type": "code",
      "execution_count": 47,
      "metadata": {
        "id": "QSATVKvKOquT",
        "colab": {
          "base_uri": "https://localhost:8080/"
        },
        "outputId": "59864b86-f407-43be-d5e9-e7f7d0385f4b"
      },
      "outputs": [
        {
          "output_type": "stream",
          "name": "stdout",
          "text": [
            "tensor([[ 0,  1,  2,  3],\n",
            "        [ 4,  5,  6,  7],\n",
            "        [ 8,  9, 10, 11]])\n"
          ]
        }
      ],
      "source": [
        "print(x.view(3, 4))"
      ]
    },
    {
      "cell_type": "markdown",
      "metadata": {
        "id": "qqZuUqtYOquT"
      },
      "source": [
        "Now change the shape of `x` so that: $\\begin{bmatrix} 0 & 1 & 2 & 3 & 4 & 5 & 6 & 7& 8 & 9 & 10 & 11 \\end{bmatrix} \\rightarrow \\begin{bmatrix} 0 & 1 & 2 \\\\ 3 & 4 & 5 \\\\ 6 & 7 & 8 \\\\ 9 & 10 & 11 \\end{bmatrix}$"
      ]
    },
    {
      "cell_type": "code",
      "execution_count": 48,
      "metadata": {
        "id": "XkVpIIXzOquT",
        "colab": {
          "base_uri": "https://localhost:8080/"
        },
        "outputId": "33349606-817a-4c78-d008-26435cf97590"
      },
      "outputs": [
        {
          "output_type": "stream",
          "name": "stdout",
          "text": [
            "tensor([[ 0,  1,  2],\n",
            "        [ 3,  4,  5],\n",
            "        [ 6,  7,  8],\n",
            "        [ 9, 10, 11]])\n"
          ]
        }
      ],
      "source": [
        "print(x.view(4, 3))"
      ]
    },
    {
      "cell_type": "markdown",
      "metadata": {
        "id": "8-x4Pg6wOquT"
      },
      "source": [
        "Now change the shape so that we have 2 matrices that are 3 by 2: $$\\begin{bmatrix} 0 & 1 & 2 & 3 & 4 & 5 & 6 & 7 & 8 & 9 & 10 & 11 \\end{bmatrix} \\rightarrow \\begin{bmatrix} \\begin{bmatrix} 0 & 1 \\\\ 2 & 3 \\\\ 4 & 5 \\end{bmatrix} \\\\ \\begin{bmatrix} 6 & 7 \\\\ 8 & 9 \\\\ 10 & 11 \\end{bmatrix} \\end{bmatrix}$$\n"
      ]
    },
    {
      "cell_type": "code",
      "execution_count": 55,
      "metadata": {
        "id": "BGi3-BWgOquT",
        "colab": {
          "base_uri": "https://localhost:8080/"
        },
        "outputId": "3ff0415c-14da-4906-da63-c93466a9bb66"
      },
      "outputs": [
        {
          "output_type": "stream",
          "name": "stdout",
          "text": [
            "tensor([[[ 0,  1],\n",
            "         [ 2,  3],\n",
            "         [ 4,  5]],\n",
            "\n",
            "        [[ 6,  7],\n",
            "         [ 8,  9],\n",
            "         [10, 11]]])\n"
          ]
        }
      ],
      "source": [
        "print(x.view(2, 3, 2))"
      ]
    },
    {
      "cell_type": "markdown",
      "metadata": {
        "id": "q00IyV1pOquT"
      },
      "source": [
        "Notice that the memory in all three cases is contiguous, meaning we can count the numbers from left to right and top to bottom, but what if we wanted our tensor to look like:\n",
        "$$\\begin{bmatrix} 0 & 1 & 2 & 3 & 4 & 5 & 6 & 7 & 8 & 9 & 10 & 11 \\end{bmatrix} \\rightarrow \\begin{bmatrix} 0 & 4 & 8 \\\\ 1 & 5 & 9 \\\\ 2 & 6 & 10 \\\\ 3 & 7 & 11 \\end{bmatrix}$$\n",
        "We can make use of the `.transpose()` function by first making our data sequence into a 3x4 matrix and then calling `.transpose()`:\n",
        "$$\\begin{aligned}\n",
        "\\begin{bmatrix} 0 & 1 & 2 & 3 & 4 & 5 & 6 & 7 & 8 & 9 & 10 & 11 \\end{bmatrix} \\rightarrow \\begin{bmatrix} 0 & 1 & 2 & 3 \\\\ 4 & 5 & 6 & 7 \\\\ 8 & 9 & 10 & 11 \\end{bmatrix} \\\\\n",
        "\\begin{bmatrix} 0 & 1 & 2 & 3 \\\\ 4 & 5 & 6 & 7 \\\\ 8 & 9 & 10 & 11 \\end{bmatrix}^\\textrm{T} \\rightarrow \\begin{bmatrix} 0 & 4 & 8 \\\\ 1 & 5 & 9 \\\\ 2 & 6 & 10 \\\\ 3 & 7 & 11 \\end{bmatrix}\n",
        "\\end{aligned}$$\n",
        "The `.transpose()` function takes in two arguments, the two dimensions you want to transpose, this is easy in our case since there are only two dimensions (because we only have two dimension you could also use `.T`, which is an alias for `.transpose()` in two dimensions).\n",
        "\n",
        "Use `.view()` and `.transpose()` and validate your new tensor is correct."
      ]
    },
    {
      "cell_type": "code",
      "execution_count": 56,
      "metadata": {
        "id": "-geOJlK7OquU"
      },
      "outputs": [],
      "source": [
        "x = x.view(4, 3).transpose(0, 1)"
      ]
    },
    {
      "cell_type": "markdown",
      "metadata": {
        "id": "PkvWYceIOquU"
      },
      "source": [
        "What if we wanted to flatten the above tensor so that:\n",
        "$$\\begin{bmatrix} 0 & 4 & 8 \\\\ 1 & 5 & 9 \\\\ 2 & 6 & 10 \\\\ 3 & 7 & 11 \\end{bmatrix} \\rightarrow \\begin{bmatrix} 0 & 4 & 8 & 1 & 5 & 9 & 2 & 6 & 10 & 3 & 7 & 11 \\end{bmatrix}$$\n",
        "\n",
        "Use the same `.view()` and `.transpose()` functions you used above, but this time tack on `.view(12)` to flatten the matrix. You should run into `RuntimeError: view size is not compatible with input tensor's size and stride ...`."
      ]
    },
    {
      "cell_type": "code",
      "execution_count": 51,
      "metadata": {
        "id": "ZJHNg9abOquU",
        "colab": {
          "base_uri": "https://localhost:8080/",
          "height": 162
        },
        "outputId": "329f0951-716d-4e97-dd67-018dedf12291"
      },
      "outputs": [
        {
          "output_type": "error",
          "ename": "RuntimeError",
          "evalue": "view size is not compatible with input tensor's size and stride (at least one dimension spans across two contiguous subspaces). Use .reshape(...) instead.",
          "traceback": [
            "\u001b[0;31m---------------------------------------------------------------------------\u001b[0m",
            "\u001b[0;31mRuntimeError\u001b[0m                              Traceback (most recent call last)",
            "\u001b[0;32m/tmp/ipython-input-2233235516.py\u001b[0m in \u001b[0;36m<cell line: 0>\u001b[0;34m()\u001b[0m\n\u001b[0;32m----> 1\u001b[0;31m \u001b[0mx\u001b[0m \u001b[0;34m=\u001b[0m \u001b[0mx\u001b[0m\u001b[0;34m.\u001b[0m\u001b[0mview\u001b[0m\u001b[0;34m(\u001b[0m\u001b[0;36m4\u001b[0m\u001b[0;34m,\u001b[0m \u001b[0;36m3\u001b[0m\u001b[0;34m)\u001b[0m\u001b[0;34m.\u001b[0m\u001b[0mtranspose\u001b[0m\u001b[0;34m(\u001b[0m\u001b[0;36m0\u001b[0m\u001b[0;34m,\u001b[0m \u001b[0;36m1\u001b[0m\u001b[0;34m)\u001b[0m\u001b[0;34m.\u001b[0m\u001b[0mreshape\u001b[0m\u001b[0;34m(\u001b[0m\u001b[0;36m12\u001b[0m\u001b[0;34m)\u001b[0m\u001b[0;34m\u001b[0m\u001b[0;34m\u001b[0m\u001b[0m\n\u001b[0m",
            "\u001b[0;31mRuntimeError\u001b[0m: view size is not compatible with input tensor's size and stride (at least one dimension spans across two contiguous subspaces). Use .reshape(...) instead."
          ]
        }
      ],
      "source": [
        "x = x.view(4, 3).transpose(0, 1).view(12)"
      ]
    },
    {
      "cell_type": "markdown",
      "metadata": {
        "id": "pqtd-Kq0OquU"
      },
      "source": [
        "This error was thrown because the transpose messed with the contiguity of our data and `.view()` ensures that our data remains contiguous.\n",
        "If however, we want to enforce our change, we can call `.reshape()`.\n",
        "Go ahead and rerun the same line of code above, but this time replace `.view(12)` with `.reshape(12)`."
      ]
    },
    {
      "cell_type": "code",
      "execution_count": 59,
      "metadata": {
        "id": "HKbhfWluOquU"
      },
      "outputs": [],
      "source": [
        "x = x.view(4, 3).transpose(0, 1).reshape(12)"
      ]
    },
    {
      "cell_type": "markdown",
      "metadata": {
        "id": "5D5KFr-NOquU"
      },
      "source": [
        "`.view()` is faster than `.reshape()`, so you use `.reshape()` only when needed."
      ]
    },
    {
      "cell_type": "markdown",
      "metadata": {
        "id": "YXEamNTXOquV"
      },
      "source": [
        "### Broadcasting and Array Operations"
      ]
    },
    {
      "cell_type": "code",
      "execution_count": 61,
      "metadata": {
        "id": "TxuBiA4HOquV"
      },
      "outputs": [],
      "source": [
        "s = torch.tensor(1)\n",
        "v1 = torch.tensor([1])\n",
        "v2 = torch.tensor([1, 2])\n",
        "v3 = torch.tensor([1, 2, 3])\n",
        "A = torch.tensor([[1, 2],\n",
        "                  [3, 4]])\n",
        "B = torch.tensor([[1, 2, 3],\n",
        "                  [4, 5, 6]])"
      ]
    },
    {
      "cell_type": "markdown",
      "metadata": {
        "id": "wNZjR5CoOquV"
      },
      "source": [
        "Print out the shape of `s`"
      ]
    },
    {
      "cell_type": "code",
      "execution_count": 62,
      "metadata": {
        "id": "Q06EhiAgOquV",
        "colab": {
          "base_uri": "https://localhost:8080/"
        },
        "outputId": "f5fea323-a3fe-41a8-b51b-fe7cc3fb39f3"
      },
      "outputs": [
        {
          "output_type": "execute_result",
          "data": {
            "text/plain": [
              "torch.Size([])"
            ]
          },
          "metadata": {},
          "execution_count": 62
        }
      ],
      "source": [
        "s.shape"
      ]
    },
    {
      "cell_type": "markdown",
      "metadata": {
        "id": "XABSu6xtOquV"
      },
      "source": [
        "The shape of `s` is `torch.Size([])` because it has no dimensions and is therefore a scalar and so in some cases it will operate different from `v1` which is a vector of size 1."
      ]
    },
    {
      "cell_type": "markdown",
      "metadata": {
        "id": "lYysRt9yOquW"
      },
      "source": [
        "### Broadcasting\n",
        "\n",
        "Broadcasting is how array libraries, such as PyTorch and NumPy, perform arithmetic operations on two arrays with different shapes.\n",
        "\n",
        "There are two main rules to remember:\n",
        "1. If one array has fewer dimensions than another, then we **prepend** (e.g. `unsqueeze(0)`) dimensions to the smaller array until both arrays have the same number of dimensions.\n",
        "    ```python\n",
        "    x.shape == (5, 4, 2)\n",
        "    y.shape == (2, )\n",
        "    # After Step 1\n",
        "    x.shape == (5, 4, 2)\n",
        "    y.shape == (1, 1, 2)\n",
        "    ```\n",
        "2. After Step 1, both arrays must have the same value at each dimension or one of them must have a value of one. Whenever a dimension of 1 is matched to a dimension >1, it duplicates its data to match the size of the other.\n",
        "    ```python\n",
        "    # Example will Fail\n",
        "    x.shape == (1, 4, 2, 9)\n",
        "    y.shape == (1, 1, 5, 9)\n",
        "    Matches:   (T, T, F, T)\n",
        "\n",
        "    # Example will Pass\n",
        "    x.shape == (1, 4, 2, 9)\n",
        "    y.shape == (2, 4, 1, 9)\n",
        "    Matches:   (T, T, T, T)\n",
        "    ```\n",
        "\n",
        "You do not need to implement these rules, they are done automatically, but you need to know them when you are performing operations on two arrays."
      ]
    },
    {
      "cell_type": "markdown",
      "metadata": {
        "id": "4YbP1Ja9OquX"
      },
      "source": [
        "Example 1: Adding `A + s`\n",
        "\n",
        "Because `A.shape == (2, 2)` and `s.shape == ()` then Step 1 prepends 1 to `s` twice so that it has a shape of (1, 1). Then the value of `s` gets copied on the dimensions where it has a value of 1.\n",
        "\n",
        "<!-- $\\begin{aligned}\n",
        "A + s &= \\begin{bmatrix} 1 & 2 \\\\ 3 & 4 \\end{bmatrix} + 1 \\\\  \n",
        "\\textrm{After Step 1} \\\\\n",
        "    &= \\begin{bmatrix} 1 & 2 \\\\ 3 & 4 \\end{bmatrix} + \\begin{bmatrix} \\begin{bmatrix} 1 \\end{bmatrix} \\end{bmatrix} \\\\\n",
        "\\textrm{After Step 2} \\\\\n",
        "    &= \\begin{bmatrix} 1 & 2 \\\\ 3 & 4 \\end{bmatrix} + \\begin{bmatrix} 1 & 1 \\\\ 1 & 1 \\end{bmatrix} = \\begin{bmatrix} 2 & 3 \\\\ 4 & 5 \\end{bmatrix}\n",
        "\\end{aligned}$ -->\n",
        "\n",
        "$\\begin{aligned}\n",
        "A + s &= \\begin{array}{cc} [[1 & 2]\\; \\\\ \\;[3 & 4]] \\end{array} + 1 \\\\  \n",
        "\\textrm{After Step 1} \\\\\n",
        "    &= \\begin{array}{cc} [[1 & 2]\\; \\\\ \\;[3 & 4]] \\end{array} + \\begin{array}{c} [[1]] \\end{array} \\\\  \n",
        "\\textrm{After Step 2} \\\\\n",
        "    &= \\begin{array}{cc} [[1 & 2]\\; \\\\ \\;[3 & 4]] \\end{array} + \\begin{array}{c} [[1 & 1]\\; \\\\ \\;[1 & 1]] \\end{array} = \\begin{array}{cc} [[2 & 3]\\; \\\\ \\;[4 & 5]] \\end{array} \\\\  \n",
        "\\end{aligned}$\n",
        "\n",
        "Add `A + s` below and validate you get the correct answer."
      ]
    },
    {
      "cell_type": "code",
      "execution_count": 63,
      "metadata": {
        "id": "LL1of2EzOquX",
        "colab": {
          "base_uri": "https://localhost:8080/"
        },
        "outputId": "d24cd3a2-bd76-4a73-9f30-709ee29dc1d2"
      },
      "outputs": [
        {
          "output_type": "execute_result",
          "data": {
            "text/plain": [
              "tensor([[2, 3],\n",
              "        [4, 5]])"
            ]
          },
          "metadata": {},
          "execution_count": 63
        }
      ],
      "source": [
        "A + s"
      ]
    },
    {
      "cell_type": "markdown",
      "metadata": {
        "id": "OMzL9MG-OquX"
      },
      "source": [
        "*Note, you can get the same result if you add by a float/integer, i.e. `A + 1`. PyTorch works well with floats and integers.*"
      ]
    },
    {
      "cell_type": "markdown",
      "metadata": {
        "id": "3_ezGsdeOquX"
      },
      "source": [
        "Example 2: Adding `B + v3`.\n",
        "\n",
        "Because `B.shape == (2, 3)` and `v3.shape == (3,)` then Step 1 prepends 1 to `v3` once so that it has a shape of (1, 3). Then the value of `v3` gets copied on the dimensions where it has a value of 1.\n",
        "\n",
        "$\\begin{aligned}\n",
        "B + v_3 &= \\begin{array}{ccc} [[1 & 2 & 3]\\; \\\\ \\;[4 & 5 & 6]] \\end{array} + \\begin{array}{ccc} [1 & 2 & 3] \\end{array} \\\\  \n",
        "\\textrm{After Step 1} \\\\\n",
        "    &= \\begin{array}{ccc} [[1 & 2 & 3]\\; \\\\ \\;[4 & 5 & 6]] \\end{array} + \\begin{array}{ccc} [[1 & 2 & 3]] \\end{array} \\\\  \n",
        "\\textrm{After Step 2} \\\\\n",
        "    &= \\begin{array}{ccc} [[1 & 2 & 3]\\; \\\\ \\;[4 & 5 & 6]] \\end{array} + \\begin{array}{ccc} [[1 & 2 & 3]\\; \\\\ \\;[1 & 2 & 3]] \\end{array} = \\begin{array}{ccc} [[2 & 4 & 6]\\; \\\\ \\;[5 & 7 & 9]] \\end{array} \\\\  \n",
        "\\end{aligned}$\n",
        "\n",
        "Add `B + v3` below and validate you get the correct answer."
      ]
    },
    {
      "cell_type": "code",
      "execution_count": 64,
      "metadata": {
        "id": "rgcK8zzkOquY",
        "colab": {
          "base_uri": "https://localhost:8080/"
        },
        "outputId": "4bbcb200-6236-4e78-fabf-92814bfb025d"
      },
      "outputs": [
        {
          "output_type": "execute_result",
          "data": {
            "text/plain": [
              "tensor([[2, 4, 6],\n",
              "        [5, 7, 9]])"
            ]
          },
          "metadata": {},
          "execution_count": 64
        }
      ],
      "source": [
        "B + v3"
      ]
    },
    {
      "cell_type": "markdown",
      "metadata": {
        "id": "NCyeULhuOquY"
      },
      "source": [
        "Example 3: Adding `B + v2`\n",
        "\n",
        "We want to happen is for:\n",
        "\n",
        "$\\begin{aligned}\n",
        "B + v_2 &= \\begin{array}{ccc} [[1 & 2 & 3]\\; \\\\ \\;[4 & 5 & 6]] \\end{array} + \\begin{array}{cc} [1 & 2] \\end{array} \\\\  \n",
        "\\textrm{After Step 1} \\\\\n",
        "    &= \\begin{array}{ccc} [[1 & 2 & 3]\\; \\\\ \\;[4 & 5 & 6]] \\end{array} + \\begin{array}{c} [[1]\\; \\\\ \\;[2]] \\end{array} \\\\  \n",
        "\\textrm{After Step 2} \\\\\n",
        "    &= \\begin{array}{ccc} [[1 & 2 & 3]\\; \\\\ \\;[4 & 5 & 6]] \\end{array} + \\begin{array}{c} [[1 & 1 & 1]\\; \\\\ \\;[2 & 2 & 2]] \\end{array} = \\begin{array}{ccc} [[2 & 3 & 4]\\; \\\\ \\;[6 & 7 & 8]] \\end{array}\n",
        "\\end{aligned}$\n",
        "\n",
        "Try by first running `B + v2`. This shouldn't work. You should run into the following error `RuntimeError: The size of tensor a (3) must match the size of tensor b (2) at non-singleton dimension 1.`"
      ]
    },
    {
      "cell_type": "code",
      "execution_count": 65,
      "metadata": {
        "id": "XPDrm-lYOquY",
        "colab": {
          "base_uri": "https://localhost:8080/",
          "height": 162
        },
        "outputId": "aa77c0c1-ebba-4570-a30d-d6b6ddde23d1"
      },
      "outputs": [
        {
          "output_type": "error",
          "ename": "RuntimeError",
          "evalue": "The size of tensor a (3) must match the size of tensor b (2) at non-singleton dimension 1",
          "traceback": [
            "\u001b[0;31m---------------------------------------------------------------------------\u001b[0m",
            "\u001b[0;31mRuntimeError\u001b[0m                              Traceback (most recent call last)",
            "\u001b[0;32m/tmp/ipython-input-1447837888.py\u001b[0m in \u001b[0;36m<cell line: 0>\u001b[0;34m()\u001b[0m\n\u001b[0;32m----> 1\u001b[0;31m \u001b[0mB\u001b[0m \u001b[0;34m+\u001b[0m \u001b[0mv2\u001b[0m\u001b[0;34m\u001b[0m\u001b[0;34m\u001b[0m\u001b[0m\n\u001b[0m",
            "\u001b[0;31mRuntimeError\u001b[0m: The size of tensor a (3) must match the size of tensor b (2) at non-singleton dimension 1"
          ]
        }
      ],
      "source": [
        "B + v2"
      ]
    },
    {
      "cell_type": "markdown",
      "metadata": {
        "id": "iabDzcLwOquY"
      },
      "source": [
        "Let's quickly parse this statement. `The size of tensor a`, i.e. `B`, `must match the size of tensor b`, i.e. `v2`, `at dimension 1`.\n",
        "`B.shape == (2, 3)` and `v2.shape == (2,)` and after Step 1 `v2.shape == (1, 2)`.\n",
        "Therefore, the value at `B`'s 1st dimension is `(3)` and the value at `v2`'s 1st dimension is `(2)`. Hence the error.\n",
        "\n",
        "We need to use an `.unsqueeze()` to fix the dimensions of `v2`. Fix the dimensions of `v2` below and validate you get the correct answer: $\\begin{array}{ccc} [[2 & 3 & 4]\\; \\\\ \\;[6 & 7 & 8]] \\end{array}$.\n"
      ]
    },
    {
      "cell_type": "code",
      "execution_count": 66,
      "metadata": {
        "id": "jn4VahMbOquY",
        "colab": {
          "base_uri": "https://localhost:8080/"
        },
        "outputId": "7845397b-9eec-42d7-9dd1-ecd9b9f6b764"
      },
      "outputs": [
        {
          "output_type": "execute_result",
          "data": {
            "text/plain": [
              "tensor([[2, 3, 4],\n",
              "        [6, 7, 8]])"
            ]
          },
          "metadata": {},
          "execution_count": 66
        }
      ],
      "source": [
        "B + v2.unsqueeze(1)"
      ]
    },
    {
      "cell_type": "markdown",
      "metadata": {
        "id": "PQT7kSaWOquZ"
      },
      "source": [
        "### Multiplication Notation\n",
        "$A \\times x$ versus $Ax$\n",
        "\n",
        "When we use the notation $A \\times x$ we mean we are performing elementwise multiplication, and in Python it looks like `A * x`, but if we use notation $Ax$ we mean that we are performing matrix multiplication and in Python it looks like `A @ x`."
      ]
    },
    {
      "cell_type": "markdown",
      "metadata": {
        "id": "2_wRvZXaOquZ"
      },
      "source": [
        "### Broadcasting Quiz"
      ]
    },
    {
      "cell_type": "code",
      "execution_count": 67,
      "metadata": {
        "id": "6AiBkGtkOquZ"
      },
      "outputs": [],
      "source": [
        "a = torch.arange(2)\n",
        "b = torch.arange(4)"
      ]
    },
    {
      "cell_type": "markdown",
      "metadata": {
        "id": "y1gvO9idOquZ"
      },
      "source": [
        "Add `a` and `b` such that: $$\\begin{bmatrix} 0 \\\\ 1 \\end{bmatrix} + \\begin{bmatrix} 0 & 1 & 2 & 3 \\end{bmatrix} = \\begin{bmatrix}  0 & 1 & 2 & 3 \\\\ 1 & 2 & 3 & 4 \\end{bmatrix}$$"
      ]
    },
    {
      "cell_type": "code",
      "execution_count": 70,
      "metadata": {
        "id": "J-MZDqB3Oqua"
      },
      "outputs": [],
      "source": [
        "answer = a.unsqueeze(1) + b.unsqueeze(0)\n",
        "\n",
        "assert torch.equal(answer, torch.tensor([[0, 1 , 2, 3], [1, 2, 3, 4]]))"
      ]
    },
    {
      "cell_type": "markdown",
      "metadata": {
        "id": "tpl2HVNS-5X1"
      },
      "source": [
        "Add `a` and `b` such that: $$\\begin{bmatrix} 0 \\\\ 1 \\end{bmatrix} + \\begin{bmatrix} 0 & 1 & 2 & 3 \\end{bmatrix} = \\begin{bmatrix}  0 & 1 & 2 & 3 \\\\ 1 & 2 & 3 & 4 \\end{bmatrix}$$"
      ]
    },
    {
      "cell_type": "markdown",
      "metadata": {
        "id": "s9h9VXLLOqua"
      },
      "source": [
        "Change `b` into a 2x2 matrix (use `.view()`) multiply with `a` along `b`'s column dimension. $$\\begin{bmatrix} 0 & 1 \\\\ 2 & 3 \\end{bmatrix} * \\begin{bmatrix} 0 & 1 \\end{bmatrix} = \\begin{bmatrix} 0 & 1 \\\\ 0 & 3 \\end{bmatrix}$$"
      ]
    },
    {
      "cell_type": "code",
      "execution_count": 71,
      "metadata": {
        "id": "S5UwpLA7Oqua"
      },
      "outputs": [],
      "source": [
        "answer = b.view(2, 2) * a\n",
        "\n",
        "assert torch.equal(answer, torch.tensor([[0, 1], [0, 3]]))"
      ]
    },
    {
      "cell_type": "markdown",
      "metadata": {
        "id": "Um_34FbKOqua"
      },
      "source": [
        "Change `b` into a 2x2 matrix (use `.view()`) multiply with `a` along `b`'s row dimension. $$\\begin{bmatrix} 0 & 1 \\\\ 2 & 3 \\end{bmatrix} * \\begin{bmatrix} 0 \\\\ 1 \\end{bmatrix} = \\begin{bmatrix} 0 & 0 \\\\ 2 & 3 \\end{bmatrix}$$"
      ]
    },
    {
      "cell_type": "code",
      "execution_count": 72,
      "metadata": {
        "id": "jr99bcDnOqua"
      },
      "outputs": [],
      "source": [
        "answer = b.view(2, 2) * a.unsqueeze(1)\n",
        "\n",
        "assert torch.equal(answer, torch.tensor([[0, 0], [2, 3]]))"
      ]
    },
    {
      "cell_type": "markdown",
      "metadata": {
        "id": "9rQjWhvBOqua"
      },
      "source": [
        "Change `b` into a 2x2 matrix and matrix multiply `a` such that:  $$\\begin{bmatrix} 0 & 1 \\\\ 2 & 3 \\end{bmatrix} \\begin{bmatrix} 0 \\\\ 1 \\end{bmatrix} = \\begin{bmatrix} 1 \\\\ 3 \\end{bmatrix}$$"
      ]
    },
    {
      "cell_type": "code",
      "execution_count": 77,
      "metadata": {
        "id": "rfapMwiYOqua"
      },
      "outputs": [],
      "source": [
        "answer = b.view(2,2) @ a.unsqueeze(1)\n",
        "assert torch.equal(answer, torch.tensor([[1], [3]]))"
      ]
    },
    {
      "cell_type": "code",
      "execution_count": 78,
      "metadata": {
        "id": "id5lWBlAOqua"
      },
      "outputs": [],
      "source": [
        "c = torch.zeros((1, 2))\n",
        "d = torch.zeros(3)"
      ]
    },
    {
      "cell_type": "markdown",
      "metadata": {
        "id": "pvzBZBBmOqua"
      },
      "source": [
        "Add `c` and `d` such that the resulting shape is (1, 3, 2)."
      ]
    },
    {
      "cell_type": "code",
      "execution_count": 80,
      "metadata": {
        "id": "YsaJmHhuOqua"
      },
      "outputs": [],
      "source": [
        "answer = c.unsqueeze(1) + d.unsqueeze(0).unsqueeze(2) # replace None with your solution\n",
        "\n",
        "assert answer.shape == torch.Size([1, 3, 2])"
      ]
    },
    {
      "cell_type": "markdown",
      "metadata": {
        "id": "nLYejjkzOqub"
      },
      "source": [
        "---\n",
        "\n",
        "# Automatic Differentiation"
      ]
    },
    {
      "cell_type": "markdown",
      "metadata": {
        "id": "2OflsKQLOqub"
      },
      "source": [
        "PyTorch is a machine learning library that provides us with the ability to automatically differentiate (autodiff) functions. In this section we will explore how we can make use of PyTorch's autodiff functions.\n",
        "\n",
        "To help us understand a little more about how PyTorch performs autodiff, we are going to import the `make_dot()` function below"
      ]
    },
    {
      "cell_type": "code",
      "execution_count": 81,
      "metadata": {
        "id": "mtZIZnxhOquc",
        "colab": {
          "base_uri": "https://localhost:8080/"
        },
        "outputId": "d5519ea4-e151-404e-8403-07883b535890"
      },
      "outputs": [
        {
          "output_type": "stream",
          "name": "stdout",
          "text": [
            "Collecting torchviz\n",
            "  Downloading torchviz-0.0.3-py3-none-any.whl.metadata (2.1 kB)\n",
            "Requirement already satisfied: torch in /usr/local/lib/python3.12/dist-packages (from torchviz) (2.8.0+cu126)\n",
            "Requirement already satisfied: graphviz in /usr/local/lib/python3.12/dist-packages (from torchviz) (0.21)\n",
            "Requirement already satisfied: filelock in /usr/local/lib/python3.12/dist-packages (from torch->torchviz) (3.19.1)\n",
            "Requirement already satisfied: typing-extensions>=4.10.0 in /usr/local/lib/python3.12/dist-packages (from torch->torchviz) (4.15.0)\n",
            "Requirement already satisfied: setuptools in /usr/local/lib/python3.12/dist-packages (from torch->torchviz) (75.2.0)\n",
            "Requirement already satisfied: sympy>=1.13.3 in /usr/local/lib/python3.12/dist-packages (from torch->torchviz) (1.13.3)\n",
            "Requirement already satisfied: networkx in /usr/local/lib/python3.12/dist-packages (from torch->torchviz) (3.5)\n",
            "Requirement already satisfied: jinja2 in /usr/local/lib/python3.12/dist-packages (from torch->torchviz) (3.1.6)\n",
            "Requirement already satisfied: fsspec in /usr/local/lib/python3.12/dist-packages (from torch->torchviz) (2025.3.0)\n",
            "Requirement already satisfied: nvidia-cuda-nvrtc-cu12==12.6.77 in /usr/local/lib/python3.12/dist-packages (from torch->torchviz) (12.6.77)\n",
            "Requirement already satisfied: nvidia-cuda-runtime-cu12==12.6.77 in /usr/local/lib/python3.12/dist-packages (from torch->torchviz) (12.6.77)\n",
            "Requirement already satisfied: nvidia-cuda-cupti-cu12==12.6.80 in /usr/local/lib/python3.12/dist-packages (from torch->torchviz) (12.6.80)\n",
            "Requirement already satisfied: nvidia-cudnn-cu12==9.10.2.21 in /usr/local/lib/python3.12/dist-packages (from torch->torchviz) (9.10.2.21)\n",
            "Requirement already satisfied: nvidia-cublas-cu12==12.6.4.1 in /usr/local/lib/python3.12/dist-packages (from torch->torchviz) (12.6.4.1)\n",
            "Requirement already satisfied: nvidia-cufft-cu12==11.3.0.4 in /usr/local/lib/python3.12/dist-packages (from torch->torchviz) (11.3.0.4)\n",
            "Requirement already satisfied: nvidia-curand-cu12==10.3.7.77 in /usr/local/lib/python3.12/dist-packages (from torch->torchviz) (10.3.7.77)\n",
            "Requirement already satisfied: nvidia-cusolver-cu12==11.7.1.2 in /usr/local/lib/python3.12/dist-packages (from torch->torchviz) (11.7.1.2)\n",
            "Requirement already satisfied: nvidia-cusparse-cu12==12.5.4.2 in /usr/local/lib/python3.12/dist-packages (from torch->torchviz) (12.5.4.2)\n",
            "Requirement already satisfied: nvidia-cusparselt-cu12==0.7.1 in /usr/local/lib/python3.12/dist-packages (from torch->torchviz) (0.7.1)\n",
            "Requirement already satisfied: nvidia-nccl-cu12==2.27.3 in /usr/local/lib/python3.12/dist-packages (from torch->torchviz) (2.27.3)\n",
            "Requirement already satisfied: nvidia-nvtx-cu12==12.6.77 in /usr/local/lib/python3.12/dist-packages (from torch->torchviz) (12.6.77)\n",
            "Requirement already satisfied: nvidia-nvjitlink-cu12==12.6.85 in /usr/local/lib/python3.12/dist-packages (from torch->torchviz) (12.6.85)\n",
            "Requirement already satisfied: nvidia-cufile-cu12==1.11.1.6 in /usr/local/lib/python3.12/dist-packages (from torch->torchviz) (1.11.1.6)\n",
            "Requirement already satisfied: triton==3.4.0 in /usr/local/lib/python3.12/dist-packages (from torch->torchviz) (3.4.0)\n",
            "Requirement already satisfied: mpmath<1.4,>=1.1.0 in /usr/local/lib/python3.12/dist-packages (from sympy>=1.13.3->torch->torchviz) (1.3.0)\n",
            "Requirement already satisfied: MarkupSafe>=2.0 in /usr/local/lib/python3.12/dist-packages (from jinja2->torch->torchviz) (3.0.2)\n",
            "Downloading torchviz-0.0.3-py3-none-any.whl (5.7 kB)\n",
            "Installing collected packages: torchviz\n",
            "Successfully installed torchviz-0.0.3\n"
          ]
        }
      ],
      "source": [
        "!pip install torchviz # `!` signifies a bash operation rather than Python\n",
        "from torchviz import make_dot"
      ]
    },
    {
      "cell_type": "markdown",
      "metadata": {
        "id": "hjbjg9omOquc"
      },
      "source": [
        "Let's make scalar tensor `x = torch.tensor(2)` to see how PyTorch works."
      ]
    },
    {
      "cell_type": "code",
      "execution_count": 82,
      "metadata": {
        "id": "CeWaetIbOquc"
      },
      "outputs": [],
      "source": [
        "x = torch.tensor(2)"
      ]
    },
    {
      "cell_type": "markdown",
      "metadata": {
        "id": "m9SHyEUtOquc"
      },
      "source": [
        "We have already talked about two important properties that a tensor has: `.shape` and `.dtype`.\n",
        "There are three more properties of a tensor we need to introduce: `.requires_grad`, `.grad`, and `.data`.\n",
        "Let's first look at whether `x` is using autograd by printing out `x.requires_grad` below."
      ]
    },
    {
      "cell_type": "code",
      "execution_count": 83,
      "metadata": {
        "id": "ANbn1k5QOqud",
        "colab": {
          "base_uri": "https://localhost:8080/"
        },
        "outputId": "43cb4751-dfeb-4e86-8a5f-89765d74d5d8"
      },
      "outputs": [
        {
          "output_type": "stream",
          "name": "stdout",
          "text": [
            "False\n"
          ]
        }
      ],
      "source": [
        "print(x.requires_grad)"
      ]
    },
    {
      "cell_type": "markdown",
      "metadata": {
        "id": "bFMR8WZlOqud"
      },
      "source": [
        "By default tensors have `x.requires_grad` set to `False`, which means we will never calculate `x`'s gradients. Let's change that by setting `x.requires_grad` to `True`."
      ]
    },
    {
      "cell_type": "code",
      "execution_count": 84,
      "metadata": {
        "id": "bx2jeA_LOqud",
        "colab": {
          "base_uri": "https://localhost:8080/",
          "height": 144
        },
        "outputId": "8ceb3e60-5c6f-4c68-ad0e-6cd93dc42b70"
      },
      "outputs": [
        {
          "output_type": "error",
          "ename": "RuntimeError",
          "evalue": "only Tensors of floating point and complex dtype can require gradients",
          "traceback": [
            "\u001b[0;31m---------------------------------------------------------------------------\u001b[0m",
            "\u001b[0;31mRuntimeError\u001b[0m                              Traceback (most recent call last)",
            "\u001b[0;32m/tmp/ipython-input-1949527888.py\u001b[0m in \u001b[0;36m<cell line: 0>\u001b[0;34m()\u001b[0m\n\u001b[0;32m----> 1\u001b[0;31m \u001b[0mx\u001b[0m\u001b[0;34m.\u001b[0m\u001b[0mrequires_grad\u001b[0m \u001b[0;34m=\u001b[0m \u001b[0;32mTrue\u001b[0m\u001b[0;34m\u001b[0m\u001b[0;34m\u001b[0m\u001b[0m\n\u001b[0m",
            "\u001b[0;31mRuntimeError\u001b[0m: only Tensors of floating point and complex dtype can require gradients"
          ]
        }
      ],
      "source": [
        "x.requires_grad = True"
      ]
    },
    {
      "cell_type": "markdown",
      "metadata": {
        "id": "L4_TNPhZOqud"
      },
      "source": [
        "You should run into `RuntimeError: only Tensors of floating point and complex dtype can require gradients.`\n",
        "We need to make `x` into a `torch.float32` tensor.\n",
        "Go ahead and call the `.float()` function (remember to update `x` with the output of `.float()`) and then set `x.requires_grad` to `True`."
      ]
    },
    {
      "cell_type": "code",
      "execution_count": 85,
      "metadata": {
        "id": "8XMMaB_iOqud"
      },
      "outputs": [],
      "source": [
        "# convert x to float and set requires_grad to True\n",
        "x = x.float()\n",
        "x.requires_grad = True\n",
        "\n",
        "assert x.requires_grad == True"
      ]
    },
    {
      "cell_type": "markdown",
      "metadata": {
        "id": "N_29hn0FOque"
      },
      "source": [
        "Now print out `x.grad`"
      ]
    },
    {
      "cell_type": "code",
      "execution_count": 86,
      "metadata": {
        "id": "wUxuvcPhOque",
        "colab": {
          "base_uri": "https://localhost:8080/"
        },
        "outputId": "89186323-29ea-4826-e8b4-ae93473a25ca"
      },
      "outputs": [
        {
          "output_type": "stream",
          "name": "stdout",
          "text": [
            "None\n"
          ]
        }
      ],
      "source": [
        "print(x.grad)"
      ]
    },
    {
      "cell_type": "markdown",
      "metadata": {
        "id": "ADJg2DyoOque"
      },
      "source": [
        "`x` has no gradients right now because we haven't computed any derivatives.\n",
        "Let's fix that, create a simple function $y = 3x$, i.e. `y = 3*x`, and print out the value of `y`."
      ]
    },
    {
      "cell_type": "code",
      "execution_count": 87,
      "metadata": {
        "id": "m3V5-IcpOque",
        "colab": {
          "base_uri": "https://localhost:8080/"
        },
        "outputId": "ec214f5f-b979-4e7b-e985-f282f2c94fba"
      },
      "outputs": [
        {
          "output_type": "stream",
          "name": "stdout",
          "text": [
            "tensor(6., grad_fn=<MulBackward0>)\n"
          ]
        }
      ],
      "source": [
        "y = 3*x\n",
        "print(y)"
      ]
    },
    {
      "cell_type": "markdown",
      "metadata": {
        "id": "V9Q6au3dOque"
      },
      "source": [
        "Because $x = 2$ the output of $y = 3(2) = 6$.\n",
        "More than that though, there is a `grad_fn=<MulBackward0>` attached to our tensor.\n",
        "This gradient function is part of a computation graph, which is the history of operations that were necessary to compute `y`.\n",
        "PyTorch utilizes this computation graph to know how to compute the gradients of all tensors involved in making `y`."
      ]
    },
    {
      "cell_type": "markdown",
      "metadata": {
        "id": "k15Zqf4BOque"
      },
      "source": [
        "To visualize this computation graph, let's use the `make_dot()` function."
      ]
    },
    {
      "cell_type": "code",
      "execution_count": 88,
      "metadata": {
        "id": "8WXaj5jsOquf",
        "colab": {
          "base_uri": "https://localhost:8080/",
          "height": 306
        },
        "outputId": "38bb8e2c-e7e7-4c0a-a4df-3b292e304732"
      },
      "outputs": [
        {
          "output_type": "execute_result",
          "data": {
            "image/svg+xml": "<?xml version=\"1.0\" encoding=\"UTF-8\" standalone=\"no\"?>\n<!DOCTYPE svg PUBLIC \"-//W3C//DTD SVG 1.1//EN\"\n \"http://www.w3.org/Graphics/SVG/1.1/DTD/svg11.dtd\">\n<!-- Generated by graphviz version 2.43.0 (0)\n -->\n<!-- Title: %3 Pages: 1 -->\n<svg width=\"109pt\" height=\"214pt\"\n viewBox=\"0.00 0.00 109.00 214.00\" xmlns=\"http://www.w3.org/2000/svg\" xmlns:xlink=\"http://www.w3.org/1999/xlink\">\n<g id=\"graph0\" class=\"graph\" transform=\"scale(1 1) rotate(0) translate(4 210)\">\n<title>%3</title>\n<polygon fill=\"white\" stroke=\"transparent\" points=\"-4,4 -4,-210 105,-210 105,4 -4,4\"/>\n<!-- 135129197752672 -->\n<g id=\"node1\" class=\"node\">\n<title>135129197752672</title>\n<polygon fill=\"#caff70\" stroke=\"black\" points=\"77.5,-30 23.5,-30 23.5,0 77.5,0 77.5,-30\"/>\n<text text-anchor=\"middle\" x=\"50.5\" y=\"-18\" font-family=\"monospace\" font-size=\"10.00\">y</text>\n<text text-anchor=\"middle\" x=\"50.5\" y=\"-7\" font-family=\"monospace\" font-size=\"10.00\"> ()</text>\n</g>\n<!-- 135129210507024 -->\n<g id=\"node2\" class=\"node\">\n<title>135129210507024</title>\n<polygon fill=\"lightgrey\" stroke=\"black\" points=\"95,-85 6,-85 6,-66 95,-66 95,-85\"/>\n<text text-anchor=\"middle\" x=\"50.5\" y=\"-73\" font-family=\"monospace\" font-size=\"10.00\">MulBackward0</text>\n</g>\n<!-- 135129210507024&#45;&gt;135129197752672 -->\n<g id=\"edge3\" class=\"edge\">\n<title>135129210507024&#45;&gt;135129197752672</title>\n<path fill=\"none\" stroke=\"black\" d=\"M50.5,-65.87C50.5,-59.11 50.5,-49.35 50.5,-40.26\"/>\n<polygon fill=\"black\" stroke=\"black\" points=\"54,-40.11 50.5,-30.11 47,-40.11 54,-40.11\"/>\n</g>\n<!-- 135129209211776 -->\n<g id=\"node3\" class=\"node\">\n<title>135129209211776</title>\n<polygon fill=\"lightgrey\" stroke=\"black\" points=\"101,-140 0,-140 0,-121 101,-121 101,-140\"/>\n<text text-anchor=\"middle\" x=\"50.5\" y=\"-128\" font-family=\"monospace\" font-size=\"10.00\">AccumulateGrad</text>\n</g>\n<!-- 135129209211776&#45;&gt;135129210507024 -->\n<g id=\"edge1\" class=\"edge\">\n<title>135129209211776&#45;&gt;135129210507024</title>\n<path fill=\"none\" stroke=\"black\" d=\"M50.5,-120.75C50.5,-113.8 50.5,-103.85 50.5,-95.13\"/>\n<polygon fill=\"black\" stroke=\"black\" points=\"54,-95.09 50.5,-85.09 47,-95.09 54,-95.09\"/>\n</g>\n<!-- 135129510743328 -->\n<g id=\"node4\" class=\"node\">\n<title>135129510743328</title>\n<polygon fill=\"lightblue\" stroke=\"black\" points=\"77.5,-206 23.5,-206 23.5,-176 77.5,-176 77.5,-206\"/>\n<text text-anchor=\"middle\" x=\"50.5\" y=\"-194\" font-family=\"monospace\" font-size=\"10.00\">x</text>\n<text text-anchor=\"middle\" x=\"50.5\" y=\"-183\" font-family=\"monospace\" font-size=\"10.00\"> ()</text>\n</g>\n<!-- 135129510743328&#45;&gt;135129209211776 -->\n<g id=\"edge2\" class=\"edge\">\n<title>135129510743328&#45;&gt;135129209211776</title>\n<path fill=\"none\" stroke=\"black\" d=\"M50.5,-175.84C50.5,-168.21 50.5,-158.7 50.5,-150.45\"/>\n<polygon fill=\"black\" stroke=\"black\" points=\"54,-150.27 50.5,-140.27 47,-150.27 54,-150.27\"/>\n</g>\n</g>\n</svg>\n",
            "text/plain": [
              "<graphviz.graphs.Digraph at 0x7ae64a726090>"
            ]
          },
          "metadata": {},
          "execution_count": 88
        }
      ],
      "source": [
        "make_dot(y, params={\"x\": x, \"y\": y})"
      ]
    },
    {
      "cell_type": "markdown",
      "metadata": {
        "id": "FyHEL0puOquf"
      },
      "source": [
        "Our computation graph starts with `x` fed into `AccumulatedGrad` (which we will discuss later), that is fed into `MulBackward0` which was the `grad_fn` attached to tensor `y`.\n",
        "`x` and `y` both have `()` underneath them specifying the shape of the tensors."
      ]
    },
    {
      "cell_type": "markdown",
      "metadata": {
        "id": "62mxG-xqOquf"
      },
      "source": [
        "Let's calculate the derivative of our function by calling `y.backward()`"
      ]
    },
    {
      "cell_type": "code",
      "execution_count": 89,
      "metadata": {
        "id": "-nZKw9j-Oquf"
      },
      "outputs": [],
      "source": [
        "y.backward()"
      ]
    },
    {
      "cell_type": "markdown",
      "metadata": {
        "id": "dYusyP1OOqug"
      },
      "source": [
        "We know that the derivative of our function $\\frac{dy}{dx} = \\frac{d}{dx} 3x = 3$. Print out `x.grad` to validate that PyTorch is working correctly."
      ]
    },
    {
      "cell_type": "code",
      "execution_count": 90,
      "metadata": {
        "id": "6m5JUIvtOquh",
        "colab": {
          "base_uri": "https://localhost:8080/"
        },
        "outputId": "e2e4126c-da6c-4a88-b76f-8e235f725c80"
      },
      "outputs": [
        {
          "output_type": "stream",
          "name": "stdout",
          "text": [
            "tensor(3.)\n"
          ]
        }
      ],
      "source": [
        "print(x.grad)"
      ]
    },
    {
      "cell_type": "markdown",
      "metadata": {
        "id": "t_vModmQOquh"
      },
      "source": [
        "What happens if we call `y.backward()` again? You should run into a `RuntimeError: Trying to backward through the graph a second time ...` because PyTorch frees up certain resources required to compute gradients once `.backward()` is called."
      ]
    },
    {
      "cell_type": "code",
      "execution_count": null,
      "metadata": {
        "id": "d5GqqRi8Oqui"
      },
      "outputs": [],
      "source": [
        "# call y.backward() again\n",
        "y.backward()"
      ]
    },
    {
      "cell_type": "markdown",
      "metadata": {
        "id": "8aZIebkoOqui"
      },
      "source": [
        "You can call `y.backward()` multiple times if you always specify `y.backward(retain_graph=True)`, but you should never do that in this class.\n",
        "If you run into this error hereafter, you most likely made a mistake."
      ]
    },
    {
      "cell_type": "markdown",
      "metadata": {
        "id": "MfPtCAKDOquj"
      },
      "source": [
        "Let's compute the derivative of $y = 3x$ again.\n",
        "This time compute `y = 3*x` first and then call `y.backward()`"
      ]
    },
    {
      "cell_type": "code",
      "execution_count": 91,
      "metadata": {
        "id": "5VJoC2atOquj"
      },
      "outputs": [],
      "source": [
        "y = 3*x\n",
        "y.backward()"
      ]
    },
    {
      "cell_type": "markdown",
      "metadata": {
        "id": "GuIZWe0LOquj"
      },
      "source": [
        "Now print out `x.grad`"
      ]
    },
    {
      "cell_type": "code",
      "execution_count": 92,
      "metadata": {
        "id": "AaLApCvAOquj",
        "colab": {
          "base_uri": "https://localhost:8080/"
        },
        "outputId": "0f8f778e-5cd1-4caa-bcec-b0132c0f0c88"
      },
      "outputs": [
        {
          "output_type": "stream",
          "name": "stdout",
          "text": [
            "tensor(6.)\n"
          ]
        }
      ],
      "source": [
        "print(x.grad)"
      ]
    },
    {
      "cell_type": "markdown",
      "metadata": {
        "id": "f4mMJAs_Oquk"
      },
      "source": [
        "**6?** Wasn't the derivative of $3x$ equal to 3? This occurred because PyTorch accumulates the gradients every time you call `.backward()`. Because `x.grad` was previously 3 and this new gradient is 3, then `x.grad` is now equal to 6.\n",
        "This is what `AccumulatedGrad` meant on the computation graph.\n",
        "To avoid your gradients from accumulating set `x.grad = None` (we call this zeroing out the gradients)."
      ]
    },
    {
      "cell_type": "code",
      "execution_count": 93,
      "metadata": {
        "id": "cjq_hMW_Oquk"
      },
      "outputs": [],
      "source": [
        "x.grad = None"
      ]
    },
    {
      "cell_type": "markdown",
      "metadata": {
        "id": "x4v-1jmUOquk"
      },
      "source": [
        "Now set `y = 3*x`, call `y.backward()`, and print out `x.grad` and validate that it equals 3."
      ]
    },
    {
      "cell_type": "code",
      "execution_count": 94,
      "metadata": {
        "id": "jArU10_COquk",
        "colab": {
          "base_uri": "https://localhost:8080/"
        },
        "outputId": "9c84c8b9-6ebf-4811-bbd3-70be0210b3dd"
      },
      "outputs": [
        {
          "output_type": "stream",
          "name": "stdout",
          "text": [
            "tensor(3.)\n"
          ]
        }
      ],
      "source": [
        "y = 3*x\n",
        "y.backward()\n",
        "print(x.grad)"
      ]
    },
    {
      "cell_type": "markdown",
      "metadata": {
        "id": "Z2ZsLY0VOqul"
      },
      "source": [
        "What about $x^2$? Set $y = x^2$, i.e. `y = x**2` and print out `y`."
      ]
    },
    {
      "cell_type": "code",
      "execution_count": 95,
      "metadata": {
        "id": "mFnct0ITOqul",
        "colab": {
          "base_uri": "https://localhost:8080/"
        },
        "outputId": "6641891f-2c10-4996-a0ad-d074f8c8a2b1"
      },
      "outputs": [
        {
          "output_type": "stream",
          "name": "stdout",
          "text": [
            "tensor(4., grad_fn=<PowBackward0>)\n"
          ]
        }
      ],
      "source": [
        "y = x**2\n",
        "print(y)"
      ]
    },
    {
      "cell_type": "markdown",
      "metadata": {
        "id": "VQgyQnz0Oqul"
      },
      "source": [
        "Because `x = 2` the output of $y = (2)^2 = 4$ and as before we have a `grad_fn=<PowBackward0>` attached to our tensor.\n",
        "\n",
        "Now let's visualize the computation graph."
      ]
    },
    {
      "cell_type": "code",
      "execution_count": 96,
      "metadata": {
        "id": "vfjybVclOqul",
        "colab": {
          "base_uri": "https://localhost:8080/",
          "height": 350
        },
        "outputId": "2602bb3a-a739-416f-e8b5-b44088d279c5"
      },
      "outputs": [
        {
          "output_type": "execute_result",
          "data": {
            "image/svg+xml": "<?xml version=\"1.0\" encoding=\"UTF-8\" standalone=\"no\"?>\n<!DOCTYPE svg PUBLIC \"-//W3C//DTD SVG 1.1//EN\"\n \"http://www.w3.org/Graphics/SVG/1.1/DTD/svg11.dtd\">\n<!-- Generated by graphviz version 2.43.0 (0)\n -->\n<!-- Title: %3 Pages: 1 -->\n<svg width=\"169pt\" height=\"247pt\"\n viewBox=\"0.00 0.00 169.00 247.00\" xmlns=\"http://www.w3.org/2000/svg\" xmlns:xlink=\"http://www.w3.org/1999/xlink\">\n<g id=\"graph0\" class=\"graph\" transform=\"scale(1 1) rotate(0) translate(4 243)\">\n<title>%3</title>\n<polygon fill=\"white\" stroke=\"transparent\" points=\"-4,4 -4,-243 165,-243 165,4 -4,4\"/>\n<!-- 135129195182624 -->\n<g id=\"node1\" class=\"node\">\n<title>135129195182624</title>\n<polygon fill=\"#caff70\" stroke=\"black\" points=\"107.5,-30 53.5,-30 53.5,0 107.5,0 107.5,-30\"/>\n<text text-anchor=\"middle\" x=\"80.5\" y=\"-18\" font-family=\"monospace\" font-size=\"10.00\">y</text>\n<text text-anchor=\"middle\" x=\"80.5\" y=\"-7\" font-family=\"monospace\" font-size=\"10.00\"> ()</text>\n</g>\n<!-- 135129510075872 -->\n<g id=\"node2\" class=\"node\">\n<title>135129510075872</title>\n<polygon fill=\"lightgrey\" stroke=\"black\" points=\"161,-118 0,-118 0,-66 161,-66 161,-118\"/>\n<text text-anchor=\"middle\" x=\"80.5\" y=\"-106\" font-family=\"monospace\" font-size=\"10.00\">PowBackward0</text>\n<text text-anchor=\"middle\" x=\"80.5\" y=\"-95\" font-family=\"monospace\" font-size=\"10.00\">&#45;&#45;&#45;&#45;&#45;&#45;&#45;&#45;&#45;&#45;&#45;&#45;&#45;&#45;&#45;&#45;&#45;&#45;&#45;&#45;&#45;&#45;&#45;&#45;</text>\n<text text-anchor=\"middle\" x=\"80.5\" y=\"-84\" font-family=\"monospace\" font-size=\"10.00\">exponent: &#160;&#160;&#160;&#160;&#160;&#160;&#160;&#160;&#160;&#160;&#160;&#160;&#160;2</text>\n<text text-anchor=\"middle\" x=\"80.5\" y=\"-73\" font-family=\"monospace\" font-size=\"10.00\">self &#160;&#160;&#160;: [saved tensor]</text>\n</g>\n<!-- 135129510075872&#45;&gt;135129195182624 -->\n<g id=\"edge3\" class=\"edge\">\n<title>135129510075872&#45;&gt;135129195182624</title>\n<path fill=\"none\" stroke=\"black\" d=\"M80.5,-65.61C80.5,-57.54 80.5,-48.64 80.5,-40.63\"/>\n<polygon fill=\"black\" stroke=\"black\" points=\"84,-40.43 80.5,-30.43 77,-40.43 84,-40.43\"/>\n</g>\n<!-- 135129206255488 -->\n<g id=\"node3\" class=\"node\">\n<title>135129206255488</title>\n<polygon fill=\"lightgrey\" stroke=\"black\" points=\"131,-173 30,-173 30,-154 131,-154 131,-173\"/>\n<text text-anchor=\"middle\" x=\"80.5\" y=\"-161\" font-family=\"monospace\" font-size=\"10.00\">AccumulateGrad</text>\n</g>\n<!-- 135129206255488&#45;&gt;135129510075872 -->\n<g id=\"edge1\" class=\"edge\">\n<title>135129206255488&#45;&gt;135129510075872</title>\n<path fill=\"none\" stroke=\"black\" d=\"M80.5,-153.98C80.5,-147.43 80.5,-137.91 80.5,-128.33\"/>\n<polygon fill=\"black\" stroke=\"black\" points=\"84,-128.05 80.5,-118.05 77,-128.05 84,-128.05\"/>\n</g>\n<!-- 135129510743328 -->\n<g id=\"node4\" class=\"node\">\n<title>135129510743328</title>\n<polygon fill=\"lightblue\" stroke=\"black\" points=\"107.5,-239 53.5,-239 53.5,-209 107.5,-209 107.5,-239\"/>\n<text text-anchor=\"middle\" x=\"80.5\" y=\"-227\" font-family=\"monospace\" font-size=\"10.00\">x</text>\n<text text-anchor=\"middle\" x=\"80.5\" y=\"-216\" font-family=\"monospace\" font-size=\"10.00\"> ()</text>\n</g>\n<!-- 135129510743328&#45;&gt;135129206255488 -->\n<g id=\"edge2\" class=\"edge\">\n<title>135129510743328&#45;&gt;135129206255488</title>\n<path fill=\"none\" stroke=\"black\" d=\"M80.5,-208.84C80.5,-201.21 80.5,-191.7 80.5,-183.45\"/>\n<polygon fill=\"black\" stroke=\"black\" points=\"84,-183.27 80.5,-173.27 77,-183.27 84,-183.27\"/>\n</g>\n</g>\n</svg>\n",
            "text/plain": [
              "<graphviz.graphs.Digraph at 0x7ae6384409e0>"
            ]
          },
          "metadata": {},
          "execution_count": 96
        }
      ],
      "source": [
        "make_dot(y, params={\"y\": y, \"x\": x}, show_attrs=True)"
      ]
    },
    {
      "cell_type": "markdown",
      "metadata": {
        "id": "VFyy3fWiOqum"
      },
      "source": [
        "We specified `show_attrs=True` this time and we see in `PowBackward0` the exponent that was used stored in the computation graph.\n",
        "\n",
        "Let's calculate the derivative of of our function by calling `y.backward()` and don't forget to zero out your gradient first, i.e. `x.grad = None`."
      ]
    },
    {
      "cell_type": "code",
      "execution_count": 97,
      "metadata": {
        "id": "pCbQA0v7Oqum"
      },
      "outputs": [],
      "source": [
        "x.grad = None\n",
        "y.backward()"
      ]
    },
    {
      "cell_type": "markdown",
      "metadata": {
        "id": "HdllcOLFOqum"
      },
      "source": [
        "We know that the derivative of our function $\\frac{dy}{dx} = \\frac{d}{dx} x^2 = 2x = 2(2) = 4$, print out `x.grad` to validate."
      ]
    },
    {
      "cell_type": "code",
      "execution_count": 98,
      "metadata": {
        "id": "ssbw-m_yOqum",
        "colab": {
          "base_uri": "https://localhost:8080/"
        },
        "outputId": "98a1c01d-b3ca-409c-fadf-948f23581f5d"
      },
      "outputs": [
        {
          "output_type": "stream",
          "name": "stdout",
          "text": [
            "tensor(4.)\n"
          ]
        }
      ],
      "source": [
        "print(x.grad)"
      ]
    },
    {
      "cell_type": "markdown",
      "metadata": {
        "id": "fMpRkApcOqum"
      },
      "source": [
        "Now let's calculate a multivariable derivative $a^2 (x+1)^2$.\n",
        "\n",
        "Create a scalar tensor `a` with a value of 2 and a scalar tensor `x` with a value of 3.\n",
        "Make sure both have `.requires_grad` set to `True`."
      ]
    },
    {
      "cell_type": "code",
      "execution_count": 102,
      "metadata": {
        "id": "BQeX6yDxOqum"
      },
      "outputs": [],
      "source": [
        "a = torch.tensor(2.).float()\n",
        "x = torch.tensor(3.).float()\n",
        "a.requires_grad = True\n",
        "x.requires_grad = True"
      ]
    },
    {
      "cell_type": "markdown",
      "metadata": {
        "id": "LHt24ZOUOqun"
      },
      "source": [
        "Now set $y = a^2(x+1)^2$ and print out `y`. Validate that $y = a^2(x+1)^2 = (2)^2 * ((3) + 1)^2 = 4 * 4^2 = 64$."
      ]
    },
    {
      "cell_type": "code",
      "execution_count": 103,
      "metadata": {
        "id": "TpiYuTO6Oqun",
        "colab": {
          "base_uri": "https://localhost:8080/"
        },
        "outputId": "efc547a9-5be2-4e61-832b-086799d33647"
      },
      "outputs": [
        {
          "output_type": "stream",
          "name": "stdout",
          "text": [
            "tensor(64., grad_fn=<MulBackward0>)\n"
          ]
        }
      ],
      "source": [
        "y = a**2 * (x + 1)**2\n",
        "print(y)"
      ]
    },
    {
      "cell_type": "markdown",
      "metadata": {
        "id": "fTXm2v0AOqun"
      },
      "source": [
        "Now let's look at the computation graph."
      ]
    },
    {
      "cell_type": "code",
      "execution_count": 104,
      "metadata": {
        "id": "7s_5hXbDOqun",
        "colab": {
          "base_uri": "https://localhost:8080/",
          "height": 468
        },
        "outputId": "16bbde8b-3d08-437d-dc49-64eea5d937fa"
      },
      "outputs": [
        {
          "output_type": "execute_result",
          "data": {
            "image/svg+xml": "<?xml version=\"1.0\" encoding=\"UTF-8\" standalone=\"no\"?>\n<!DOCTYPE svg PUBLIC \"-//W3C//DTD SVG 1.1//EN\"\n \"http://www.w3.org/Graphics/SVG/1.1/DTD/svg11.dtd\">\n<!-- Generated by graphviz version 2.43.0 (0)\n -->\n<!-- Title: %3 Pages: 1 -->\n<svg width=\"222pt\" height=\"335pt\"\n viewBox=\"0.00 0.00 222.00 335.00\" xmlns=\"http://www.w3.org/2000/svg\" xmlns:xlink=\"http://www.w3.org/1999/xlink\">\n<g id=\"graph0\" class=\"graph\" transform=\"scale(1 1) rotate(0) translate(4 331)\">\n<title>%3</title>\n<polygon fill=\"white\" stroke=\"transparent\" points=\"-4,4 -4,-331 218,-331 218,4 -4,4\"/>\n<!-- 135129195468016 -->\n<g id=\"node1\" class=\"node\">\n<title>135129195468016</title>\n<polygon fill=\"#caff70\" stroke=\"black\" points=\"133.5,-30 79.5,-30 79.5,0 133.5,0 133.5,-30\"/>\n<text text-anchor=\"middle\" x=\"106.5\" y=\"-18\" font-family=\"monospace\" font-size=\"10.00\">y</text>\n<text text-anchor=\"middle\" x=\"106.5\" y=\"-7\" font-family=\"monospace\" font-size=\"10.00\"> ()</text>\n</g>\n<!-- 135129209211776 -->\n<g id=\"node2\" class=\"node\">\n<title>135129209211776</title>\n<polygon fill=\"lightgrey\" stroke=\"black\" points=\"151,-85 62,-85 62,-66 151,-66 151,-85\"/>\n<text text-anchor=\"middle\" x=\"106.5\" y=\"-73\" font-family=\"monospace\" font-size=\"10.00\">MulBackward0</text>\n</g>\n<!-- 135129209211776&#45;&gt;135129195468016 -->\n<g id=\"edge8\" class=\"edge\">\n<title>135129209211776&#45;&gt;135129195468016</title>\n<path fill=\"none\" stroke=\"black\" d=\"M106.5,-65.87C106.5,-59.11 106.5,-49.35 106.5,-40.26\"/>\n<polygon fill=\"black\" stroke=\"black\" points=\"110,-40.11 106.5,-30.11 103,-40.11 110,-40.11\"/>\n</g>\n<!-- 135129205058880 -->\n<g id=\"node3\" class=\"node\">\n<title>135129205058880</title>\n<polygon fill=\"lightgrey\" stroke=\"black\" points=\"98,-140 9,-140 9,-121 98,-121 98,-140\"/>\n<text text-anchor=\"middle\" x=\"53.5\" y=\"-128\" font-family=\"monospace\" font-size=\"10.00\">PowBackward0</text>\n</g>\n<!-- 135129205058880&#45;&gt;135129209211776 -->\n<g id=\"edge1\" class=\"edge\">\n<title>135129205058880&#45;&gt;135129209211776</title>\n<path fill=\"none\" stroke=\"black\" d=\"M62.25,-120.75C69.97,-113.03 81.4,-101.6 90.72,-92.28\"/>\n<polygon fill=\"black\" stroke=\"black\" points=\"93.31,-94.64 97.91,-85.09 88.36,-89.69 93.31,-94.64\"/>\n</g>\n<!-- 135129205062576 -->\n<g id=\"node4\" class=\"node\">\n<title>135129205062576</title>\n<polygon fill=\"lightgrey\" stroke=\"black\" points=\"101,-195 0,-195 0,-176 101,-176 101,-195\"/>\n<text text-anchor=\"middle\" x=\"50.5\" y=\"-183\" font-family=\"monospace\" font-size=\"10.00\">AccumulateGrad</text>\n</g>\n<!-- 135129205062576&#45;&gt;135129205058880 -->\n<g id=\"edge2\" class=\"edge\">\n<title>135129205062576&#45;&gt;135129205058880</title>\n<path fill=\"none\" stroke=\"black\" d=\"M51,-175.75C51.39,-168.8 51.95,-158.85 52.45,-150.13\"/>\n<polygon fill=\"black\" stroke=\"black\" points=\"55.94,-150.27 53.01,-140.09 48.95,-149.88 55.94,-150.27\"/>\n</g>\n<!-- 135129195736160 -->\n<g id=\"node5\" class=\"node\">\n<title>135129195736160</title>\n<polygon fill=\"lightblue\" stroke=\"black\" points=\"77.5,-261 23.5,-261 23.5,-231 77.5,-231 77.5,-261\"/>\n<text text-anchor=\"middle\" x=\"50.5\" y=\"-249\" font-family=\"monospace\" font-size=\"10.00\">a</text>\n<text text-anchor=\"middle\" x=\"50.5\" y=\"-238\" font-family=\"monospace\" font-size=\"10.00\"> ()</text>\n</g>\n<!-- 135129195736160&#45;&gt;135129205062576 -->\n<g id=\"edge3\" class=\"edge\">\n<title>135129195736160&#45;&gt;135129205062576</title>\n<path fill=\"none\" stroke=\"black\" d=\"M50.5,-230.84C50.5,-223.21 50.5,-213.7 50.5,-205.45\"/>\n<polygon fill=\"black\" stroke=\"black\" points=\"54,-205.27 50.5,-195.27 47,-205.27 54,-205.27\"/>\n</g>\n<!-- 135129205051296 -->\n<g id=\"node6\" class=\"node\">\n<title>135129205051296</title>\n<polygon fill=\"lightgrey\" stroke=\"black\" points=\"206,-140 117,-140 117,-121 206,-121 206,-140\"/>\n<text text-anchor=\"middle\" x=\"161.5\" y=\"-128\" font-family=\"monospace\" font-size=\"10.00\">PowBackward0</text>\n</g>\n<!-- 135129205051296&#45;&gt;135129209211776 -->\n<g id=\"edge4\" class=\"edge\">\n<title>135129205051296&#45;&gt;135129209211776</title>\n<path fill=\"none\" stroke=\"black\" d=\"M152.42,-120.75C144.41,-113.03 132.54,-101.6 122.88,-92.28\"/>\n<polygon fill=\"black\" stroke=\"black\" points=\"125.04,-89.51 115.41,-85.09 120.19,-94.55 125.04,-89.51\"/>\n</g>\n<!-- 135129205054080 -->\n<g id=\"node7\" class=\"node\">\n<title>135129205054080</title>\n<polygon fill=\"lightgrey\" stroke=\"black\" points=\"208,-195 119,-195 119,-176 208,-176 208,-195\"/>\n<text text-anchor=\"middle\" x=\"163.5\" y=\"-183\" font-family=\"monospace\" font-size=\"10.00\">AddBackward0</text>\n</g>\n<!-- 135129205054080&#45;&gt;135129205051296 -->\n<g id=\"edge5\" class=\"edge\">\n<title>135129205054080&#45;&gt;135129205051296</title>\n<path fill=\"none\" stroke=\"black\" d=\"M163.17,-175.75C162.91,-168.8 162.53,-158.85 162.2,-150.13\"/>\n<polygon fill=\"black\" stroke=\"black\" points=\"165.7,-149.95 161.82,-140.09 158.7,-150.21 165.7,-149.95\"/>\n</g>\n<!-- 135129510075872 -->\n<g id=\"node8\" class=\"node\">\n<title>135129510075872</title>\n<polygon fill=\"lightgrey\" stroke=\"black\" points=\"214,-255.5 113,-255.5 113,-236.5 214,-236.5 214,-255.5\"/>\n<text text-anchor=\"middle\" x=\"163.5\" y=\"-243.5\" font-family=\"monospace\" font-size=\"10.00\">AccumulateGrad</text>\n</g>\n<!-- 135129510075872&#45;&gt;135129205054080 -->\n<g id=\"edge6\" class=\"edge\">\n<title>135129510075872&#45;&gt;135129205054080</title>\n<path fill=\"none\" stroke=\"black\" d=\"M163.5,-236.37C163.5,-228.25 163.5,-215.81 163.5,-205.39\"/>\n<polygon fill=\"black\" stroke=\"black\" points=\"167,-205.17 163.5,-195.17 160,-205.17 167,-205.17\"/>\n</g>\n<!-- 135129195467536 -->\n<g id=\"node9\" class=\"node\">\n<title>135129195467536</title>\n<polygon fill=\"lightblue\" stroke=\"black\" points=\"190.5,-327 136.5,-327 136.5,-297 190.5,-297 190.5,-327\"/>\n<text text-anchor=\"middle\" x=\"163.5\" y=\"-315\" font-family=\"monospace\" font-size=\"10.00\">x</text>\n<text text-anchor=\"middle\" x=\"163.5\" y=\"-304\" font-family=\"monospace\" font-size=\"10.00\"> ()</text>\n</g>\n<!-- 135129195467536&#45;&gt;135129510075872 -->\n<g id=\"edge7\" class=\"edge\">\n<title>135129195467536&#45;&gt;135129510075872</title>\n<path fill=\"none\" stroke=\"black\" d=\"M163.5,-296.8C163.5,-287.7 163.5,-275.79 163.5,-265.9\"/>\n<polygon fill=\"black\" stroke=\"black\" points=\"167,-265.84 163.5,-255.84 160,-265.84 167,-265.84\"/>\n</g>\n</g>\n</svg>\n",
            "text/plain": [
              "<graphviz.graphs.Digraph at 0x7ae638442090>"
            ]
          },
          "metadata": {},
          "execution_count": 104
        }
      ],
      "source": [
        "make_dot(y, params={\"a\": a, \"x\": x, \"y\": y})"
      ]
    },
    {
      "cell_type": "markdown",
      "metadata": {
        "id": "yz7GFzLsOquo"
      },
      "source": [
        "Now call `y.backward()` and validate that\n",
        "\n",
        "$\\frac{dy}{dx} = \\frac{d}{dx} a^2(x+1)^2 = 2a^2(x+1) = 2(2)^2(3 + 1) = 32$\n",
        "\n",
        "$\\frac{dy}{da} = \\frac{d}{da} a^2(x+1)^2 = 2a(x+1)^2 = 2(2)(3 + 1)^2 = 64$\n",
        "\n",
        "by printing `x.grad` and `a.grad`"
      ]
    },
    {
      "cell_type": "code",
      "execution_count": 105,
      "metadata": {
        "id": "5gvfw3FDOquo",
        "colab": {
          "base_uri": "https://localhost:8080/"
        },
        "outputId": "54645afd-eee5-4fc0-9025-d511fb277236"
      },
      "outputs": [
        {
          "output_type": "stream",
          "name": "stdout",
          "text": [
            "tensor(32.)\n",
            "tensor(64.)\n"
          ]
        }
      ],
      "source": [
        "y.backward()\n",
        "print(x.grad)\n",
        "print(a.grad)"
      ]
    },
    {
      "cell_type": "markdown",
      "metadata": {
        "id": "GY0Y3O7MOqup"
      },
      "source": [
        "Hopefully, it is clear that there all all kinds of functions you could put in that can be differentiated by PyTorch.\n",
        "Let's now work with vector and matrix differentiation.\n",
        "\n",
        "Define two new tensors:\n",
        "- `A` with data `[[0, 1, 2], [3, 4, 5]]` with `requires_grad = True`\n",
        "- `x` with data `[-1, 0, 1]` with `requires_grad = True`"
      ]
    },
    {
      "cell_type": "code",
      "execution_count": 106,
      "metadata": {
        "id": "U6DfRbIbOqup"
      },
      "outputs": [],
      "source": [
        "a = torch.tensor([[0, 1, 2], [3, 4, 5]]).float()\n",
        "x = torch.tensor([-1, 0, 1]).float()\n",
        "a.requires_grad = True\n",
        "x.requires_grad = True"
      ]
    },
    {
      "cell_type": "markdown",
      "metadata": {
        "id": "lafdsEDrOqup"
      },
      "source": [
        "Now set $y = (Ax)^2$ and print out `y`. Validate that the output $y = (Ax)^2 = \\left( \\begin{bmatrix} 0 & 1 & 2 \\\\ 3 & 4 & 5 \\end{bmatrix} \\begin{bmatrix} -1 \\\\ 0 \\\\ 1 \\end{bmatrix} \\right)^2 = \\left( \\begin{bmatrix} 2 \\\\ 2 \\end{bmatrix} \\right)^2 = \\begin{bmatrix} 2^2 \\\\ 2^2 \\end{bmatrix} = \\begin{bmatrix} 4 \\\\ 4 \\end{bmatrix}$"
      ]
    },
    {
      "cell_type": "code",
      "execution_count": 107,
      "metadata": {
        "id": "-fnnMcYnOquq",
        "colab": {
          "base_uri": "https://localhost:8080/"
        },
        "outputId": "01c61b15-c9c9-482c-ee05-f7e42506c1ff"
      },
      "outputs": [
        {
          "output_type": "stream",
          "name": "stdout",
          "text": [
            "tensor([4., 4.], grad_fn=<PowBackward0>)\n"
          ]
        }
      ],
      "source": [
        "y = (a @ x)**2\n",
        "print(y)"
      ]
    },
    {
      "cell_type": "markdown",
      "metadata": {
        "id": "By-pWDfcOquq"
      },
      "source": [
        "Now the \"derivative\" we are computing here is called the Jacobian, because $y$ is a vector-valued function. The Jacobian contains the derivative of every output, $y_i$, with respect to every input, $x_j$. Therefore, the Jacobian of $y$ with respect to $x$ is:\n",
        "\n",
        "$\\begin{aligned}\n",
        "J_y = \\begin{bmatrix} \\frac{\\partial y_1}{\\partial x_1} & \\frac{\\partial y_1}{\\partial x_2} & \\frac{\\partial y_1}{\\partial x_3} \\\\ \\frac{\\partial y_2}{\\partial x_1} & \\frac{\\partial y_2}{\\partial x_2} & \\frac{\\partial y_2}{\\partial x_3} \\end{bmatrix} = \\frac{\\partial y}{\\partial x} &= \\frac{\\partial}{\\partial x} \\left( \\begin{bmatrix} A_{11} & A_{12} & A_{13} \\\\ A_{21} & A_{22} & A_{23} \\end{bmatrix} \\begin{bmatrix} x_1 \\\\ x_2 \\\\ x_3 \\end{bmatrix} \\right)^2 \\\\\n",
        "    &= \\frac{\\partial}{\\partial x} \\left( \\begin{bmatrix} A_{11}x_1 + A_{12}x_2 + A_{13}x_3 \\\\ A_{21}x_1 + A_{22}x_2 + A_{23}x_3 \\end{bmatrix} \\right)^2 \\\\\n",
        "    &= \\frac{\\partial}{\\partial x} \\begin{bmatrix} (A_{11}x_1 + A_{12}x_2 + A_{13}x_3)^2 \\\\ (A_{21}x_1 + A_{22}x_2 + A_{23}x_3)^2 \\end{bmatrix} \\\\\n",
        "    &= \\begin{bmatrix} \\frac{\\partial}{\\partial x} (A_{11}x_1 + A_{12}x_2 + A_{13}x_3)^2 \\\\ \\frac{\\partial}{\\partial x} (A_{21}x_1 + A_{22}x_2 + A_{23}x_3)^2 \\end{bmatrix} \\\\\n",
        "    &= \\begin{bmatrix} \\frac{\\partial}{\\partial x_1} (A_{11}x_1 + A_{12}x_2 + A_{13}x_3)^2 & \\frac{\\partial}{\\partial x_2} (A_{11}x_1 + A_{12}x_2 + A_{13}x_3)^2 & \\frac{\\partial}{\\partial x_3} (A_{11}x_1 + A_{12}x_2 + A_{13}x_3)^2  \\\\ \\frac{\\partial}{\\partial x_1} (A_{21}x_1 + A_{22}x_2 + A_{23}x_3)^2 & \\frac{\\partial}{\\partial x_2} (A_{21}x_1 + A_{22}x_2 + A_{23}x_3)^2 & \\frac{\\partial}{\\partial x_3} (A_{21}x_1 + A_{22}x_2 + A_{23}x_3)^2 \\end{bmatrix} \\\\\n",
        "    &= \\begin{bmatrix} 2A_{11}(A_{11}x_1 + A_{12}x_2 + A_{13}x_3) & 2A_{12}(A_{11}x_1 + A_{12}x_2 + A_{13}x_3) & 2A_{13}(A_{11}x_1 + A_{12}x_2 + A_{13}x_3)  \\\\ 2A_{21}(A_{21}x_1 + A_{22}x_2 + A_{23}x_3) & 2A_{22}(A_{21}x_1 + A_{22}x_2 + A_{23}x_3) & 2A_{23}(A_{21}x_1 + A_{22}x_2 + A_{23}x_3) \\end{bmatrix} \\\\\n",
        "    &= \\begin{bmatrix} 0 & 4 & 8  \\\\ 12 & 16 & 20 \\end{bmatrix}\n",
        "\\end{aligned}$\n",
        "\n",
        "Now call `y.backward()`. You should run into `RuntimeError: grad can be implicitly created only for scalar outputs`."
      ]
    },
    {
      "cell_type": "code",
      "execution_count": 108,
      "metadata": {
        "id": "7KtI2BIYOquq",
        "colab": {
          "base_uri": "https://localhost:8080/",
          "height": 311
        },
        "outputId": "9c9d9b6c-182a-49fb-ff39-020fab8babcd"
      },
      "outputs": [
        {
          "output_type": "error",
          "ename": "RuntimeError",
          "evalue": "grad can be implicitly created only for scalar outputs",
          "traceback": [
            "\u001b[0;31m---------------------------------------------------------------------------\u001b[0m",
            "\u001b[0;31mRuntimeError\u001b[0m                              Traceback (most recent call last)",
            "\u001b[0;32m/tmp/ipython-input-1055444503.py\u001b[0m in \u001b[0;36m<cell line: 0>\u001b[0;34m()\u001b[0m\n\u001b[0;32m----> 1\u001b[0;31m \u001b[0my\u001b[0m\u001b[0;34m.\u001b[0m\u001b[0mbackward\u001b[0m\u001b[0;34m(\u001b[0m\u001b[0;34m)\u001b[0m\u001b[0;34m\u001b[0m\u001b[0;34m\u001b[0m\u001b[0m\n\u001b[0m",
            "\u001b[0;32m/usr/local/lib/python3.12/dist-packages/torch/_tensor.py\u001b[0m in \u001b[0;36mbackward\u001b[0;34m(self, gradient, retain_graph, create_graph, inputs)\u001b[0m\n\u001b[1;32m    645\u001b[0m                 \u001b[0minputs\u001b[0m\u001b[0;34m=\u001b[0m\u001b[0minputs\u001b[0m\u001b[0;34m,\u001b[0m\u001b[0;34m\u001b[0m\u001b[0;34m\u001b[0m\u001b[0m\n\u001b[1;32m    646\u001b[0m             )\n\u001b[0;32m--> 647\u001b[0;31m         torch.autograd.backward(\n\u001b[0m\u001b[1;32m    648\u001b[0m             \u001b[0mself\u001b[0m\u001b[0;34m,\u001b[0m \u001b[0mgradient\u001b[0m\u001b[0;34m,\u001b[0m \u001b[0mretain_graph\u001b[0m\u001b[0;34m,\u001b[0m \u001b[0mcreate_graph\u001b[0m\u001b[0;34m,\u001b[0m \u001b[0minputs\u001b[0m\u001b[0;34m=\u001b[0m\u001b[0minputs\u001b[0m\u001b[0;34m\u001b[0m\u001b[0;34m\u001b[0m\u001b[0m\n\u001b[1;32m    649\u001b[0m         )\n",
            "\u001b[0;32m/usr/local/lib/python3.12/dist-packages/torch/autograd/__init__.py\u001b[0m in \u001b[0;36mbackward\u001b[0;34m(tensors, grad_tensors, retain_graph, create_graph, grad_variables, inputs)\u001b[0m\n\u001b[1;32m    345\u001b[0m \u001b[0;34m\u001b[0m\u001b[0m\n\u001b[1;32m    346\u001b[0m     \u001b[0mgrad_tensors_\u001b[0m \u001b[0;34m=\u001b[0m \u001b[0m_tensor_or_tensors_to_tuple\u001b[0m\u001b[0;34m(\u001b[0m\u001b[0mgrad_tensors\u001b[0m\u001b[0;34m,\u001b[0m \u001b[0mlen\u001b[0m\u001b[0;34m(\u001b[0m\u001b[0mtensors\u001b[0m\u001b[0;34m)\u001b[0m\u001b[0;34m)\u001b[0m\u001b[0;34m\u001b[0m\u001b[0;34m\u001b[0m\u001b[0m\n\u001b[0;32m--> 347\u001b[0;31m     \u001b[0mgrad_tensors_\u001b[0m \u001b[0;34m=\u001b[0m \u001b[0m_make_grads\u001b[0m\u001b[0;34m(\u001b[0m\u001b[0mtensors\u001b[0m\u001b[0;34m,\u001b[0m \u001b[0mgrad_tensors_\u001b[0m\u001b[0;34m,\u001b[0m \u001b[0mis_grads_batched\u001b[0m\u001b[0;34m=\u001b[0m\u001b[0;32mFalse\u001b[0m\u001b[0;34m)\u001b[0m\u001b[0;34m\u001b[0m\u001b[0;34m\u001b[0m\u001b[0m\n\u001b[0m\u001b[1;32m    348\u001b[0m     \u001b[0;32mif\u001b[0m \u001b[0mretain_graph\u001b[0m \u001b[0;32mis\u001b[0m \u001b[0;32mNone\u001b[0m\u001b[0;34m:\u001b[0m\u001b[0;34m\u001b[0m\u001b[0;34m\u001b[0m\u001b[0m\n\u001b[1;32m    349\u001b[0m         \u001b[0mretain_graph\u001b[0m \u001b[0;34m=\u001b[0m \u001b[0mcreate_graph\u001b[0m\u001b[0;34m\u001b[0m\u001b[0;34m\u001b[0m\u001b[0m\n",
            "\u001b[0;32m/usr/local/lib/python3.12/dist-packages/torch/autograd/__init__.py\u001b[0m in \u001b[0;36m_make_grads\u001b[0;34m(outputs, grads, is_grads_batched)\u001b[0m\n\u001b[1;32m    197\u001b[0m                     \u001b[0mout_numel_is_1\u001b[0m \u001b[0;34m=\u001b[0m \u001b[0mout\u001b[0m\u001b[0;34m.\u001b[0m\u001b[0mnumel\u001b[0m\u001b[0;34m(\u001b[0m\u001b[0;34m)\u001b[0m \u001b[0;34m==\u001b[0m \u001b[0;36m1\u001b[0m\u001b[0;34m\u001b[0m\u001b[0;34m\u001b[0m\u001b[0m\n\u001b[1;32m    198\u001b[0m                 \u001b[0;32mif\u001b[0m \u001b[0;32mnot\u001b[0m \u001b[0mout_numel_is_1\u001b[0m\u001b[0;34m:\u001b[0m\u001b[0;34m\u001b[0m\u001b[0;34m\u001b[0m\u001b[0m\n\u001b[0;32m--> 199\u001b[0;31m                     raise RuntimeError(\n\u001b[0m\u001b[1;32m    200\u001b[0m                         \u001b[0;34m\"grad can be implicitly created only for scalar outputs\"\u001b[0m\u001b[0;34m\u001b[0m\u001b[0;34m\u001b[0m\u001b[0m\n\u001b[1;32m    201\u001b[0m                     )\n",
            "\u001b[0;31mRuntimeError\u001b[0m: grad can be implicitly created only for scalar outputs"
          ]
        }
      ],
      "source": [
        "y.backward()"
      ]
    },
    {
      "cell_type": "markdown",
      "metadata": {
        "id": "V4Lg1XYvOqur"
      },
      "source": [
        "We can only call `.backward()` on scalar tensors in pytorch; there are some detailed explanations on why online, but simple reason behind this is because backpropagating on a scalar reduces the dimensionality of our gradients making backpropagation cheaper and quicker.\n",
        "Which makes sense because `x` is a vector and the Jacobian we calculated is a matrix.\n",
        "\n",
        "We can easily circumvent this issue by summing up our `y` tensor. Set `y_sum = torch.sum(y)` and call `.backward()` on `y_sum`."
      ]
    },
    {
      "cell_type": "code",
      "execution_count": 109,
      "metadata": {
        "id": "HLsGYnkgOqur"
      },
      "outputs": [],
      "source": [
        "y_sum = torch.sum(y)\n",
        "y_sum.backward()"
      ]
    },
    {
      "cell_type": "markdown",
      "metadata": {
        "id": "Bjb6bGI4Oqur"
      },
      "source": [
        "Now let's look at the gradients from our new function.\n",
        "\n",
        "$\\begin{aligned}\n",
        "\\frac{\\partial y}{\\partial x} &= \\frac{\\partial}{\\partial x} \\sum \\left( \\begin{bmatrix} A_{11} & A_{12} & A_{13} \\\\ A_{21} & A_{22} & A_{23} \\end{bmatrix} \\begin{bmatrix} x_1 \\\\ x_2 \\\\ x_3 \\end{bmatrix} \\right)^2 \\\\\n",
        "    &= \\sum \\frac{\\partial}{\\partial x} \\left( \\begin{bmatrix} A_{11} & A_{12} & A_{13} \\\\ A_{21} & A_{22} & A_{23} \\end{bmatrix} \\begin{bmatrix} x_1 \\\\ x_2 \\\\ x_3 \\end{bmatrix} \\right)^2 \\\\\n",
        "    &= \\sum \\frac{\\partial}{\\partial x} \\left( \\begin{bmatrix} A_{11}x_1 + A_{12}x_2 + A_{13}x_3 \\\\ A_{21}x_1 + A_{22}x_2 + A_{23}x_3 \\end{bmatrix} \\right)^2 \\\\\n",
        "    & \\quad \\quad \\vdots \\\\\n",
        "    &= \\sum \\begin{bmatrix} 2A_{11}(A_{11}x_1 + A_{12}x_2 + A_{13}x_3) & 2A_{12}(A_{11}x_1 + A_{12}x_2 + A_{13}x_3) & 2A_{13}(A_{11}x_1 + A_{12}x_2 + A_{13}x_3)  \\\\ 2A_{21}(A_{21}x_1 + A_{22}x_2 + A_{23}x_3) & 2A_{22}(A_{21}x_1 + A_{22}x_2 + A_{23}x_3) & 2A_{23}(A_{21}x_1 + A_{22}x_2 + A_{23}x_3) \\end{bmatrix} \\\\\n",
        "    &= \\sum \\begin{bmatrix} 0 & 4 & 8  \\\\ 12 & 16 & 20 \\end{bmatrix} \\\\\n",
        "    &= \\begin{bmatrix} 12 & 20 & 28  \\end{bmatrix} \\\\\n",
        "\\end{aligned}$\n",
        "\n",
        "**Note that by summing the output of `y` we ended up summing our Jacobian**.\n",
        "\n",
        "I will quickly show $\\frac{\\partial y}{\\partial A}$ in abbreviated form:\n",
        "\n",
        "$\\begin{aligned}\n",
        "\\frac{\\partial y}{\\partial A} &= \\frac{\\partial}{\\partial x} \\sum \\left( Ax \\right)^2 \\\\\n",
        "    &= \\frac{\\partial}{\\partial A}  (A_1x)^2 + (A_2x)^2 \\\\\n",
        "    &= \\begin{bmatrix} \\frac{\\partial}{\\partial A_1} (A_1x)^2 + (A_2x)^2 \\\\ \\frac{\\partial}{\\partial A_2} (A_1x)^2 + (A_2x)^2  \\end{bmatrix} \\\\\n",
        "    &= \\begin{bmatrix} 2(A_1x)x^T \\\\ 2(A_2x)x^T  \\end{bmatrix} \\\\\n",
        "    &= \\begin{bmatrix} 4x^T \\\\ 4x^T  \\end{bmatrix} \\\\\n",
        "    &= \\begin{bmatrix} -4 & 0 & 4 \\\\ -4 & 0 & 4  \\end{bmatrix} \\\\\n",
        "\\end{aligned}$\n",
        "\n",
        "Print out `x.grad` and `A.grad` and validate you got the correct answer."
      ]
    },
    {
      "cell_type": "code",
      "execution_count": 110,
      "metadata": {
        "id": "eFn__s7xOqur",
        "colab": {
          "base_uri": "https://localhost:8080/"
        },
        "outputId": "70219790-da54-42c0-fb07-7a18d6140f16"
      },
      "outputs": [
        {
          "output_type": "stream",
          "name": "stdout",
          "text": [
            "tensor([12., 20., 28.])\n",
            "None\n"
          ]
        }
      ],
      "source": [
        "print(x.grad)\n",
        "print(A.grad)"
      ]
    },
    {
      "cell_type": "markdown",
      "metadata": {
        "id": "NR2bfXm-Oqus"
      },
      "source": [
        "And just for fun, let's look at the computation graph."
      ]
    },
    {
      "cell_type": "code",
      "execution_count": 111,
      "metadata": {
        "id": "mCl0KiLpOqus",
        "colab": {
          "base_uri": "https://localhost:8080/",
          "height": 454
        },
        "outputId": "18a6e282-33c1-4ac1-d8e0-ef36b17e919c"
      },
      "outputs": [
        {
          "output_type": "execute_result",
          "data": {
            "image/svg+xml": "<?xml version=\"1.0\" encoding=\"UTF-8\" standalone=\"no\"?>\n<!DOCTYPE svg PUBLIC \"-//W3C//DTD SVG 1.1//EN\"\n \"http://www.w3.org/Graphics/SVG/1.1/DTD/svg11.dtd\">\n<!-- Generated by graphviz version 2.43.0 (0)\n -->\n<!-- Title: %3 Pages: 1 -->\n<svg width=\"228pt\" height=\"325pt\"\n viewBox=\"0.00 0.00 228.00 325.00\" xmlns=\"http://www.w3.org/2000/svg\" xmlns:xlink=\"http://www.w3.org/1999/xlink\">\n<g id=\"graph0\" class=\"graph\" transform=\"scale(1 1) rotate(0) translate(4 321)\">\n<title>%3</title>\n<polygon fill=\"white\" stroke=\"transparent\" points=\"-4,4 -4,-321 224,-321 224,4 -4,4\"/>\n<!-- 135129197751712 -->\n<g id=\"node1\" class=\"node\">\n<title>135129197751712</title>\n<polygon fill=\"#caff70\" stroke=\"black\" points=\"136.5,-30 82.5,-30 82.5,0 136.5,0 136.5,-30\"/>\n<text text-anchor=\"middle\" x=\"109.5\" y=\"-18\" font-family=\"monospace\" font-size=\"10.00\">y_sum</text>\n<text text-anchor=\"middle\" x=\"109.5\" y=\"-7\" font-family=\"monospace\" font-size=\"10.00\"> ()</text>\n</g>\n<!-- 135129209211776 -->\n<g id=\"node2\" class=\"node\">\n<title>135129209211776</title>\n<polygon fill=\"lightgrey\" stroke=\"black\" points=\"154,-85 65,-85 65,-66 154,-66 154,-85\"/>\n<text text-anchor=\"middle\" x=\"109.5\" y=\"-73\" font-family=\"monospace\" font-size=\"10.00\">SumBackward0</text>\n</g>\n<!-- 135129209211776&#45;&gt;135129197751712 -->\n<g id=\"edge7\" class=\"edge\">\n<title>135129209211776&#45;&gt;135129197751712</title>\n<path fill=\"none\" stroke=\"black\" d=\"M109.5,-65.87C109.5,-59.11 109.5,-49.35 109.5,-40.26\"/>\n<polygon fill=\"black\" stroke=\"black\" points=\"113,-40.11 109.5,-30.11 106,-40.11 113,-40.11\"/>\n</g>\n<!-- 135129208763680 -->\n<g id=\"node3\" class=\"node\">\n<title>135129208763680</title>\n<polygon fill=\"lightgrey\" stroke=\"black\" points=\"154,-140 65,-140 65,-121 154,-121 154,-140\"/>\n<text text-anchor=\"middle\" x=\"109.5\" y=\"-128\" font-family=\"monospace\" font-size=\"10.00\">PowBackward0</text>\n</g>\n<!-- 135129208763680&#45;&gt;135129209211776 -->\n<g id=\"edge1\" class=\"edge\">\n<title>135129208763680&#45;&gt;135129209211776</title>\n<path fill=\"none\" stroke=\"black\" d=\"M109.5,-120.75C109.5,-113.8 109.5,-103.85 109.5,-95.13\"/>\n<polygon fill=\"black\" stroke=\"black\" points=\"113,-95.09 109.5,-85.09 106,-95.09 113,-95.09\"/>\n</g>\n<!-- 135129204858480 -->\n<g id=\"node4\" class=\"node\">\n<title>135129204858480</title>\n<polygon fill=\"lightgrey\" stroke=\"black\" points=\"151,-195 68,-195 68,-176 151,-176 151,-195\"/>\n<text text-anchor=\"middle\" x=\"109.5\" y=\"-183\" font-family=\"monospace\" font-size=\"10.00\">MvBackward0</text>\n</g>\n<!-- 135129204858480&#45;&gt;135129208763680 -->\n<g id=\"edge2\" class=\"edge\">\n<title>135129204858480&#45;&gt;135129208763680</title>\n<path fill=\"none\" stroke=\"black\" d=\"M109.5,-175.75C109.5,-168.8 109.5,-158.85 109.5,-150.13\"/>\n<polygon fill=\"black\" stroke=\"black\" points=\"113,-150.09 109.5,-140.09 106,-150.09 113,-150.09\"/>\n</g>\n<!-- 135129204865968 -->\n<g id=\"node5\" class=\"node\">\n<title>135129204865968</title>\n<polygon fill=\"lightgrey\" stroke=\"black\" points=\"101,-250 0,-250 0,-231 101,-231 101,-250\"/>\n<text text-anchor=\"middle\" x=\"50.5\" y=\"-238\" font-family=\"monospace\" font-size=\"10.00\">AccumulateGrad</text>\n</g>\n<!-- 135129204865968&#45;&gt;135129204858480 -->\n<g id=\"edge3\" class=\"edge\">\n<title>135129204865968&#45;&gt;135129204858480</title>\n<path fill=\"none\" stroke=\"black\" d=\"M59.98,-230.98C68.7,-223.15 81.84,-211.34 92.4,-201.86\"/>\n<polygon fill=\"black\" stroke=\"black\" points=\"94.75,-204.46 99.85,-195.17 90.07,-199.25 94.75,-204.46\"/>\n</g>\n<!-- 135129195017664 -->\n<g id=\"node6\" class=\"node\">\n<title>135129195017664</title>\n<polygon fill=\"lightblue\" stroke=\"black\" points=\"80,-317 21,-317 21,-286 80,-286 80,-317\"/>\n<text text-anchor=\"middle\" x=\"50.5\" y=\"-293\" font-family=\"monospace\" font-size=\"10.00\"> (2, 3)</text>\n</g>\n<!-- 135129195017664&#45;&gt;135129204865968 -->\n<g id=\"edge4\" class=\"edge\">\n<title>135129195017664&#45;&gt;135129204865968</title>\n<path fill=\"none\" stroke=\"black\" d=\"M50.5,-285.92C50.5,-278.22 50.5,-268.69 50.5,-260.43\"/>\n<polygon fill=\"black\" stroke=\"black\" points=\"54,-260.25 50.5,-250.25 47,-260.25 54,-260.25\"/>\n</g>\n<!-- 135129204864912 -->\n<g id=\"node7\" class=\"node\">\n<title>135129204864912</title>\n<polygon fill=\"lightgrey\" stroke=\"black\" points=\"220,-250 119,-250 119,-231 220,-231 220,-250\"/>\n<text text-anchor=\"middle\" x=\"169.5\" y=\"-238\" font-family=\"monospace\" font-size=\"10.00\">AccumulateGrad</text>\n</g>\n<!-- 135129204864912&#45;&gt;135129204858480 -->\n<g id=\"edge5\" class=\"edge\">\n<title>135129204864912&#45;&gt;135129204858480</title>\n<path fill=\"none\" stroke=\"black\" d=\"M159.86,-230.98C150.99,-223.15 137.63,-211.34 126.89,-201.86\"/>\n<polygon fill=\"black\" stroke=\"black\" points=\"129.13,-199.17 119.32,-195.17 124.49,-204.41 129.13,-199.17\"/>\n</g>\n<!-- 135129195473536 -->\n<g id=\"node8\" class=\"node\">\n<title>135129195473536</title>\n<polygon fill=\"lightblue\" stroke=\"black\" points=\"196.5,-316.5 142.5,-316.5 142.5,-286.5 196.5,-286.5 196.5,-316.5\"/>\n<text text-anchor=\"middle\" x=\"169.5\" y=\"-304.5\" font-family=\"monospace\" font-size=\"10.00\">x</text>\n<text text-anchor=\"middle\" x=\"169.5\" y=\"-293.5\" font-family=\"monospace\" font-size=\"10.00\"> (3)</text>\n</g>\n<!-- 135129195473536&#45;&gt;135129204864912 -->\n<g id=\"edge6\" class=\"edge\">\n<title>135129195473536&#45;&gt;135129204864912</title>\n<path fill=\"none\" stroke=\"black\" d=\"M169.5,-286.22C169.5,-278.53 169.5,-268.94 169.5,-260.61\"/>\n<polygon fill=\"black\" stroke=\"black\" points=\"173,-260.34 169.5,-250.34 166,-260.34 173,-260.34\"/>\n</g>\n</g>\n</svg>\n",
            "text/plain": [
              "<graphviz.graphs.Digraph at 0x7ae6387c91c0>"
            ]
          },
          "metadata": {},
          "execution_count": 111
        }
      ],
      "source": [
        "make_dot(y_sum, params={\"A\": A, \"x\": x, \"y_sum\": y_sum})"
      ]
    },
    {
      "cell_type": "markdown",
      "metadata": {
        "id": "KHtkfp91Oqus"
      },
      "source": [
        "## Final Notes about Autodiff"
      ]
    },
    {
      "cell_type": "markdown",
      "metadata": {
        "id": "juaxEdn8Oqus"
      },
      "source": [
        "There are two other functions that are useful when using autodifferentiation: `.clone()` and `.detach()`.\n",
        "\n",
        "- `.clone()` gives us the ability to copy a tensor and remain on the computation graph.\n",
        "- `.detach()` gives us the ability to copy a tensor, but to become detached from computation graph, i.e. the copy will have `requires_grad = False`.\n",
        "\n",
        "To illustrate this we will initialize two tensors: $x=1$ and $y=2$"
      ]
    },
    {
      "cell_type": "code",
      "execution_count": 112,
      "metadata": {
        "id": "ofw7LLdsOqut"
      },
      "outputs": [],
      "source": [
        "x = torch.tensor(1).float()\n",
        "y = torch.tensor(2).float()\n",
        "\n",
        "x.requires_grad = True\n",
        "y.requires_grad = True"
      ]
    },
    {
      "cell_type": "markdown",
      "metadata": {
        "id": "m1A6Hx_fOqut"
      },
      "source": [
        "And vizualize the computation graph of:\n",
        "```python\n",
        "z = x + y\n",
        "l = 2*z + 3*z\n",
        "```"
      ]
    },
    {
      "cell_type": "code",
      "execution_count": 113,
      "metadata": {
        "id": "Hhv1_fzUOqut",
        "colab": {
          "base_uri": "https://localhost:8080/",
          "height": 453
        },
        "outputId": "795014f7-45eb-4996-c741-3899c4ab6228"
      },
      "outputs": [
        {
          "output_type": "execute_result",
          "data": {
            "image/svg+xml": "<?xml version=\"1.0\" encoding=\"UTF-8\" standalone=\"no\"?>\n<!DOCTYPE svg PUBLIC \"-//W3C//DTD SVG 1.1//EN\"\n \"http://www.w3.org/Graphics/SVG/1.1/DTD/svg11.dtd\">\n<!-- Generated by graphviz version 2.43.0 (0)\n -->\n<!-- Title: %3 Pages: 1 -->\n<svg width=\"228pt\" height=\"324pt\"\n viewBox=\"0.00 0.00 228.00 324.00\" xmlns=\"http://www.w3.org/2000/svg\" xmlns:xlink=\"http://www.w3.org/1999/xlink\">\n<g id=\"graph0\" class=\"graph\" transform=\"scale(1 1) rotate(0) translate(4 320)\">\n<title>%3</title>\n<polygon fill=\"white\" stroke=\"transparent\" points=\"-4,4 -4,-320 224,-320 224,4 -4,4\"/>\n<!-- 135129195787472 -->\n<g id=\"node1\" class=\"node\">\n<title>135129195787472</title>\n<polygon fill=\"#caff70\" stroke=\"black\" points=\"136.5,-30 82.5,-30 82.5,0 136.5,0 136.5,-30\"/>\n<text text-anchor=\"middle\" x=\"109.5\" y=\"-18\" font-family=\"monospace\" font-size=\"10.00\">l</text>\n<text text-anchor=\"middle\" x=\"109.5\" y=\"-7\" font-family=\"monospace\" font-size=\"10.00\"> ()</text>\n</g>\n<!-- 135129204857664 -->\n<g id=\"node2\" class=\"node\">\n<title>135129204857664</title>\n<polygon fill=\"lightgrey\" stroke=\"black\" points=\"154,-85 65,-85 65,-66 154,-66 154,-85\"/>\n<text text-anchor=\"middle\" x=\"109.5\" y=\"-73\" font-family=\"monospace\" font-size=\"10.00\">AddBackward0</text>\n</g>\n<!-- 135129204857664&#45;&gt;135129195787472 -->\n<g id=\"edge9\" class=\"edge\">\n<title>135129204857664&#45;&gt;135129195787472</title>\n<path fill=\"none\" stroke=\"black\" d=\"M109.5,-65.87C109.5,-59.11 109.5,-49.35 109.5,-40.26\"/>\n<polygon fill=\"black\" stroke=\"black\" points=\"113,-40.11 109.5,-30.11 106,-40.11 113,-40.11\"/>\n</g>\n<!-- 135129510075872 -->\n<g id=\"node3\" class=\"node\">\n<title>135129510075872</title>\n<polygon fill=\"lightgrey\" stroke=\"black\" points=\"101,-140 12,-140 12,-121 101,-121 101,-140\"/>\n<text text-anchor=\"middle\" x=\"56.5\" y=\"-128\" font-family=\"monospace\" font-size=\"10.00\">MulBackward0</text>\n</g>\n<!-- 135129510075872&#45;&gt;135129204857664 -->\n<g id=\"edge1\" class=\"edge\">\n<title>135129510075872&#45;&gt;135129204857664</title>\n<path fill=\"none\" stroke=\"black\" d=\"M65.25,-120.75C72.97,-113.03 84.4,-101.6 93.72,-92.28\"/>\n<polygon fill=\"black\" stroke=\"black\" points=\"96.31,-94.64 100.91,-85.09 91.36,-89.69 96.31,-94.64\"/>\n</g>\n<!-- 135129204866640 -->\n<g id=\"node4\" class=\"node\">\n<title>135129204866640</title>\n<polygon fill=\"lightgrey\" stroke=\"black\" points=\"154,-195 65,-195 65,-176 154,-176 154,-195\"/>\n<text text-anchor=\"middle\" x=\"109.5\" y=\"-183\" font-family=\"monospace\" font-size=\"10.00\">AddBackward0</text>\n</g>\n<!-- 135129204866640&#45;&gt;135129510075872 -->\n<g id=\"edge2\" class=\"edge\">\n<title>135129204866640&#45;&gt;135129510075872</title>\n<path fill=\"none\" stroke=\"black\" d=\"M100.75,-175.75C93.03,-168.03 81.6,-156.6 72.28,-147.28\"/>\n<polygon fill=\"black\" stroke=\"black\" points=\"74.64,-144.69 65.09,-140.09 69.69,-149.64 74.64,-144.69\"/>\n</g>\n<!-- 135129204865344 -->\n<g id=\"node9\" class=\"node\">\n<title>135129204865344</title>\n<polygon fill=\"lightgrey\" stroke=\"black\" points=\"208,-140 119,-140 119,-121 208,-121 208,-140\"/>\n<text text-anchor=\"middle\" x=\"163.5\" y=\"-128\" font-family=\"monospace\" font-size=\"10.00\">MulBackward0</text>\n</g>\n<!-- 135129204866640&#45;&gt;135129204865344 -->\n<g id=\"edge8\" class=\"edge\">\n<title>135129204866640&#45;&gt;135129204865344</title>\n<path fill=\"none\" stroke=\"black\" d=\"M118.42,-175.75C126.28,-168.03 137.93,-156.6 147.42,-147.28\"/>\n<polygon fill=\"black\" stroke=\"black\" points=\"150.06,-149.59 154.75,-140.09 145.16,-144.6 150.06,-149.59\"/>\n</g>\n<!-- 135129204855312 -->\n<g id=\"node5\" class=\"node\">\n<title>135129204855312</title>\n<polygon fill=\"lightgrey\" stroke=\"black\" points=\"101,-250 0,-250 0,-231 101,-231 101,-250\"/>\n<text text-anchor=\"middle\" x=\"50.5\" y=\"-238\" font-family=\"monospace\" font-size=\"10.00\">AccumulateGrad</text>\n</g>\n<!-- 135129204855312&#45;&gt;135129204866640 -->\n<g id=\"edge3\" class=\"edge\">\n<title>135129204855312&#45;&gt;135129204866640</title>\n<path fill=\"none\" stroke=\"black\" d=\"M59.98,-230.98C68.7,-223.15 81.84,-211.34 92.4,-201.86\"/>\n<polygon fill=\"black\" stroke=\"black\" points=\"94.75,-204.46 99.85,-195.17 90.07,-199.25 94.75,-204.46\"/>\n</g>\n<!-- 135129195467696 -->\n<g id=\"node6\" class=\"node\">\n<title>135129195467696</title>\n<polygon fill=\"lightblue\" stroke=\"black\" points=\"77.5,-316 23.5,-316 23.5,-286 77.5,-286 77.5,-316\"/>\n<text text-anchor=\"middle\" x=\"50.5\" y=\"-304\" font-family=\"monospace\" font-size=\"10.00\">x</text>\n<text text-anchor=\"middle\" x=\"50.5\" y=\"-293\" font-family=\"monospace\" font-size=\"10.00\"> ()</text>\n</g>\n<!-- 135129195467696&#45;&gt;135129204855312 -->\n<g id=\"edge4\" class=\"edge\">\n<title>135129195467696&#45;&gt;135129204855312</title>\n<path fill=\"none\" stroke=\"black\" d=\"M50.5,-285.84C50.5,-278.21 50.5,-268.7 50.5,-260.45\"/>\n<polygon fill=\"black\" stroke=\"black\" points=\"54,-260.27 50.5,-250.27 47,-260.27 54,-260.27\"/>\n</g>\n<!-- 135129204862272 -->\n<g id=\"node7\" class=\"node\">\n<title>135129204862272</title>\n<polygon fill=\"lightgrey\" stroke=\"black\" points=\"220,-250 119,-250 119,-231 220,-231 220,-250\"/>\n<text text-anchor=\"middle\" x=\"169.5\" y=\"-238\" font-family=\"monospace\" font-size=\"10.00\">AccumulateGrad</text>\n</g>\n<!-- 135129204862272&#45;&gt;135129204866640 -->\n<g id=\"edge5\" class=\"edge\">\n<title>135129204862272&#45;&gt;135129204866640</title>\n<path fill=\"none\" stroke=\"black\" d=\"M159.86,-230.98C150.99,-223.15 137.63,-211.34 126.89,-201.86\"/>\n<polygon fill=\"black\" stroke=\"black\" points=\"129.13,-199.17 119.32,-195.17 124.49,-204.41 129.13,-199.17\"/>\n</g>\n<!-- 135129197751872 -->\n<g id=\"node8\" class=\"node\">\n<title>135129197751872</title>\n<polygon fill=\"lightblue\" stroke=\"black\" points=\"196.5,-316 142.5,-316 142.5,-286 196.5,-286 196.5,-316\"/>\n<text text-anchor=\"middle\" x=\"169.5\" y=\"-304\" font-family=\"monospace\" font-size=\"10.00\">y</text>\n<text text-anchor=\"middle\" x=\"169.5\" y=\"-293\" font-family=\"monospace\" font-size=\"10.00\"> ()</text>\n</g>\n<!-- 135129197751872&#45;&gt;135129204862272 -->\n<g id=\"edge6\" class=\"edge\">\n<title>135129197751872&#45;&gt;135129204862272</title>\n<path fill=\"none\" stroke=\"black\" d=\"M169.5,-285.84C169.5,-278.21 169.5,-268.7 169.5,-260.45\"/>\n<polygon fill=\"black\" stroke=\"black\" points=\"173,-260.27 169.5,-250.27 166,-260.27 173,-260.27\"/>\n</g>\n<!-- 135129204865344&#45;&gt;135129204857664 -->\n<g id=\"edge7\" class=\"edge\">\n<title>135129204865344&#45;&gt;135129204857664</title>\n<path fill=\"none\" stroke=\"black\" d=\"M154.58,-120.75C146.72,-113.03 135.07,-101.6 125.58,-92.28\"/>\n<polygon fill=\"black\" stroke=\"black\" points=\"127.84,-89.6 118.25,-85.09 122.94,-94.59 127.84,-89.6\"/>\n</g>\n</g>\n</svg>\n",
            "text/plain": [
              "<graphviz.graphs.Digraph at 0x7ae638413980>"
            ]
          },
          "metadata": {},
          "execution_count": 113
        }
      ],
      "source": [
        "z = x + y\n",
        "l = 2*z + 3*z\n",
        "\n",
        "make_dot(l, params={\"x\": x, \"y\": y, \"l\": l})"
      ]
    },
    {
      "cell_type": "markdown",
      "metadata": {
        "id": "4076oW3wOqut"
      },
      "source": [
        "The output of `l` is $l = 2z + 3z = 5(x + y) = 15$.\n",
        "The gradients of $x$ and $y$ are then $\\frac{d}{dx} 5(x+y) = \\frac{d}{dx} 5x = 5$ and $\\frac{d}{dy} 5(x+y) = \\frac{d}{dy} 5y = 5$. Take the derivative of `l` and print out `l` and the gradients of `x` and `y` to validate this is true."
      ]
    },
    {
      "cell_type": "code",
      "execution_count": 114,
      "metadata": {
        "id": "ZqbO_c1wOquu",
        "colab": {
          "base_uri": "https://localhost:8080/"
        },
        "outputId": "4a818c95-1c5d-4565-867f-0d0f0a5e4295"
      },
      "outputs": [
        {
          "output_type": "stream",
          "name": "stdout",
          "text": [
            "tensor(15., grad_fn=<AddBackward0>)\n",
            "tensor(5.)\n",
            "tensor(5.)\n"
          ]
        }
      ],
      "source": [
        "l.backward()\n",
        "\n",
        "print(l)\n",
        "print(x.grad)\n",
        "print(y.grad)"
      ]
    },
    {
      "cell_type": "markdown",
      "metadata": {
        "id": "z1-5fDaIOquu"
      },
      "source": [
        "### `.clone()`\n",
        "\n"
      ]
    },
    {
      "cell_type": "markdown",
      "metadata": {
        "id": "UneExL8VOquu"
      },
      "source": [
        "Now compute the same function, but this time let `l = 2*z + 3*z.clone()`. Call `make_dot()` and visualize the computation graph."
      ]
    },
    {
      "cell_type": "code",
      "execution_count": 115,
      "metadata": {
        "id": "xAL_laJhOquv",
        "colab": {
          "base_uri": "https://localhost:8080/",
          "height": 526
        },
        "outputId": "ffd540c2-4588-4d6b-a330-1fe2d1dd45ff"
      },
      "outputs": [
        {
          "output_type": "execute_result",
          "data": {
            "image/svg+xml": "<?xml version=\"1.0\" encoding=\"UTF-8\" standalone=\"no\"?>\n<!DOCTYPE svg PUBLIC \"-//W3C//DTD SVG 1.1//EN\"\n \"http://www.w3.org/Graphics/SVG/1.1/DTD/svg11.dtd\">\n<!-- Generated by graphviz version 2.43.0 (0)\n -->\n<!-- Title: %3 Pages: 1 -->\n<svg width=\"228pt\" height=\"379pt\"\n viewBox=\"0.00 0.00 228.00 379.00\" xmlns=\"http://www.w3.org/2000/svg\" xmlns:xlink=\"http://www.w3.org/1999/xlink\">\n<g id=\"graph0\" class=\"graph\" transform=\"scale(1 1) rotate(0) translate(4 375)\">\n<title>%3</title>\n<polygon fill=\"white\" stroke=\"transparent\" points=\"-4,4 -4,-375 224,-375 224,4 -4,4\"/>\n<!-- 135129195774112 -->\n<g id=\"node1\" class=\"node\">\n<title>135129195774112</title>\n<polygon fill=\"#caff70\" stroke=\"black\" points=\"136.5,-30 82.5,-30 82.5,0 136.5,0 136.5,-30\"/>\n<text text-anchor=\"middle\" x=\"109.5\" y=\"-18\" font-family=\"monospace\" font-size=\"10.00\">l</text>\n<text text-anchor=\"middle\" x=\"109.5\" y=\"-7\" font-family=\"monospace\" font-size=\"10.00\"> ()</text>\n</g>\n<!-- 135129205170832 -->\n<g id=\"node2\" class=\"node\">\n<title>135129205170832</title>\n<polygon fill=\"lightgrey\" stroke=\"black\" points=\"154,-85 65,-85 65,-66 154,-66 154,-85\"/>\n<text text-anchor=\"middle\" x=\"109.5\" y=\"-73\" font-family=\"monospace\" font-size=\"10.00\">AddBackward0</text>\n</g>\n<!-- 135129205170832&#45;&gt;135129195774112 -->\n<g id=\"edge10\" class=\"edge\">\n<title>135129205170832&#45;&gt;135129195774112</title>\n<path fill=\"none\" stroke=\"black\" d=\"M109.5,-65.87C109.5,-59.11 109.5,-49.35 109.5,-40.26\"/>\n<polygon fill=\"black\" stroke=\"black\" points=\"113,-40.11 109.5,-30.11 106,-40.11 113,-40.11\"/>\n</g>\n<!-- 135129205171552 -->\n<g id=\"node3\" class=\"node\">\n<title>135129205171552</title>\n<polygon fill=\"lightgrey\" stroke=\"black\" points=\"101,-140 12,-140 12,-121 101,-121 101,-140\"/>\n<text text-anchor=\"middle\" x=\"56.5\" y=\"-128\" font-family=\"monospace\" font-size=\"10.00\">MulBackward0</text>\n</g>\n<!-- 135129205171552&#45;&gt;135129205170832 -->\n<g id=\"edge1\" class=\"edge\">\n<title>135129205171552&#45;&gt;135129205170832</title>\n<path fill=\"none\" stroke=\"black\" d=\"M65.25,-120.75C72.97,-113.03 84.4,-101.6 93.72,-92.28\"/>\n<polygon fill=\"black\" stroke=\"black\" points=\"96.31,-94.64 100.91,-85.09 91.36,-89.69 96.31,-94.64\"/>\n</g>\n<!-- 135129204866640 -->\n<g id=\"node4\" class=\"node\">\n<title>135129204866640</title>\n<polygon fill=\"lightgrey\" stroke=\"black\" points=\"154,-250 65,-250 65,-231 154,-231 154,-250\"/>\n<text text-anchor=\"middle\" x=\"109.5\" y=\"-238\" font-family=\"monospace\" font-size=\"10.00\">AddBackward0</text>\n</g>\n<!-- 135129204866640&#45;&gt;135129205171552 -->\n<g id=\"edge2\" class=\"edge\">\n<title>135129204866640&#45;&gt;135129205171552</title>\n<path fill=\"none\" stroke=\"black\" d=\"M105.16,-230.66C96.46,-212.93 76.73,-172.73 65.24,-149.32\"/>\n<polygon fill=\"black\" stroke=\"black\" points=\"68.3,-147.59 60.75,-140.16 62.01,-150.68 68.3,-147.59\"/>\n</g>\n<!-- 135129206240736 -->\n<g id=\"node10\" class=\"node\">\n<title>135129206240736</title>\n<polygon fill=\"lightgrey\" stroke=\"black\" points=\"207,-195 106,-195 106,-176 207,-176 207,-195\"/>\n<text text-anchor=\"middle\" x=\"156.5\" y=\"-183\" font-family=\"monospace\" font-size=\"10.00\">CloneBackward0</text>\n</g>\n<!-- 135129204866640&#45;&gt;135129206240736 -->\n<g id=\"edge9\" class=\"edge\">\n<title>135129204866640&#45;&gt;135129206240736</title>\n<path fill=\"none\" stroke=\"black\" d=\"M117.26,-230.75C123.97,-223.18 133.84,-212.05 142.01,-202.84\"/>\n<polygon fill=\"black\" stroke=\"black\" points=\"144.87,-204.89 148.88,-195.09 139.63,-200.25 144.87,-204.89\"/>\n</g>\n<!-- 135129204855312 -->\n<g id=\"node5\" class=\"node\">\n<title>135129204855312</title>\n<polygon fill=\"lightgrey\" stroke=\"black\" points=\"101,-305 0,-305 0,-286 101,-286 101,-305\"/>\n<text text-anchor=\"middle\" x=\"50.5\" y=\"-293\" font-family=\"monospace\" font-size=\"10.00\">AccumulateGrad</text>\n</g>\n<!-- 135129204855312&#45;&gt;135129204866640 -->\n<g id=\"edge3\" class=\"edge\">\n<title>135129204855312&#45;&gt;135129204866640</title>\n<path fill=\"none\" stroke=\"black\" d=\"M59.98,-285.98C68.7,-278.15 81.84,-266.34 92.4,-256.86\"/>\n<polygon fill=\"black\" stroke=\"black\" points=\"94.75,-259.46 99.85,-250.17 90.07,-254.25 94.75,-259.46\"/>\n</g>\n<!-- 135129195467696 -->\n<g id=\"node6\" class=\"node\">\n<title>135129195467696</title>\n<polygon fill=\"lightblue\" stroke=\"black\" points=\"77.5,-371 23.5,-371 23.5,-341 77.5,-341 77.5,-371\"/>\n<text text-anchor=\"middle\" x=\"50.5\" y=\"-359\" font-family=\"monospace\" font-size=\"10.00\">x</text>\n<text text-anchor=\"middle\" x=\"50.5\" y=\"-348\" font-family=\"monospace\" font-size=\"10.00\"> ()</text>\n</g>\n<!-- 135129195467696&#45;&gt;135129204855312 -->\n<g id=\"edge4\" class=\"edge\">\n<title>135129195467696&#45;&gt;135129204855312</title>\n<path fill=\"none\" stroke=\"black\" d=\"M50.5,-340.84C50.5,-333.21 50.5,-323.7 50.5,-315.45\"/>\n<polygon fill=\"black\" stroke=\"black\" points=\"54,-315.27 50.5,-305.27 47,-315.27 54,-315.27\"/>\n</g>\n<!-- 135129204862272 -->\n<g id=\"node7\" class=\"node\">\n<title>135129204862272</title>\n<polygon fill=\"lightgrey\" stroke=\"black\" points=\"220,-305 119,-305 119,-286 220,-286 220,-305\"/>\n<text text-anchor=\"middle\" x=\"169.5\" y=\"-293\" font-family=\"monospace\" font-size=\"10.00\">AccumulateGrad</text>\n</g>\n<!-- 135129204862272&#45;&gt;135129204866640 -->\n<g id=\"edge5\" class=\"edge\">\n<title>135129204862272&#45;&gt;135129204866640</title>\n<path fill=\"none\" stroke=\"black\" d=\"M159.86,-285.98C150.99,-278.15 137.63,-266.34 126.89,-256.86\"/>\n<polygon fill=\"black\" stroke=\"black\" points=\"129.13,-254.17 119.32,-250.17 124.49,-259.41 129.13,-254.17\"/>\n</g>\n<!-- 135129197751872 -->\n<g id=\"node8\" class=\"node\">\n<title>135129197751872</title>\n<polygon fill=\"lightblue\" stroke=\"black\" points=\"196.5,-371 142.5,-371 142.5,-341 196.5,-341 196.5,-371\"/>\n<text text-anchor=\"middle\" x=\"169.5\" y=\"-359\" font-family=\"monospace\" font-size=\"10.00\">y</text>\n<text text-anchor=\"middle\" x=\"169.5\" y=\"-348\" font-family=\"monospace\" font-size=\"10.00\"> ()</text>\n</g>\n<!-- 135129197751872&#45;&gt;135129204862272 -->\n<g id=\"edge6\" class=\"edge\">\n<title>135129197751872&#45;&gt;135129204862272</title>\n<path fill=\"none\" stroke=\"black\" d=\"M169.5,-340.84C169.5,-333.21 169.5,-323.7 169.5,-315.45\"/>\n<polygon fill=\"black\" stroke=\"black\" points=\"173,-315.27 169.5,-305.27 166,-315.27 173,-315.27\"/>\n</g>\n<!-- 135129205176736 -->\n<g id=\"node9\" class=\"node\">\n<title>135129205176736</title>\n<polygon fill=\"lightgrey\" stroke=\"black\" points=\"208,-140 119,-140 119,-121 208,-121 208,-140\"/>\n<text text-anchor=\"middle\" x=\"163.5\" y=\"-128\" font-family=\"monospace\" font-size=\"10.00\">MulBackward0</text>\n</g>\n<!-- 135129205176736&#45;&gt;135129205170832 -->\n<g id=\"edge7\" class=\"edge\">\n<title>135129205176736&#45;&gt;135129205170832</title>\n<path fill=\"none\" stroke=\"black\" d=\"M154.58,-120.75C146.72,-113.03 135.07,-101.6 125.58,-92.28\"/>\n<polygon fill=\"black\" stroke=\"black\" points=\"127.84,-89.6 118.25,-85.09 122.94,-94.59 127.84,-89.6\"/>\n</g>\n<!-- 135129206240736&#45;&gt;135129205176736 -->\n<g id=\"edge8\" class=\"edge\">\n<title>135129206240736&#45;&gt;135129205176736</title>\n<path fill=\"none\" stroke=\"black\" d=\"M157.66,-175.75C158.57,-168.8 159.89,-158.85 161.04,-150.13\"/>\n<polygon fill=\"black\" stroke=\"black\" points=\"164.53,-150.46 162.37,-140.09 157.59,-149.54 164.53,-150.46\"/>\n</g>\n</g>\n</svg>\n",
            "text/plain": [
              "<graphviz.graphs.Digraph at 0x7ae63845efc0>"
            ]
          },
          "metadata": {},
          "execution_count": 115
        }
      ],
      "source": [
        "# compute z and l\n",
        "l = 2*z + 3*z.clone()\n",
        "\n",
        "make_dot(l, params={\"x\": x, \"y\": y, \"l\": l})"
      ]
    },
    {
      "cell_type": "markdown",
      "metadata": {
        "id": "qXq9ll_5Oquv"
      },
      "source": [
        "The computation graph now has `CloneBackward0` attached to, but since `.clone()` doesn't change any gradients then the output of `l` and `x.grad` and `y.grad` should all be the same as above.\n",
        "Take the derivative of `l` (don't forget to zero out the gradients of `x` and `y`) and print out `l` and the gradients of `x` and `y` to validate this is true."
      ]
    },
    {
      "cell_type": "code",
      "execution_count": 116,
      "metadata": {
        "id": "DKB_z8tEOquv",
        "colab": {
          "base_uri": "https://localhost:8080/"
        },
        "outputId": "c179536a-526f-4005-889d-607035fad7d0"
      },
      "outputs": [
        {
          "output_type": "stream",
          "name": "stdout",
          "text": [
            "tensor(15., grad_fn=<AddBackward0>)\n",
            "None\n",
            "None\n"
          ]
        }
      ],
      "source": [
        "l.backward()\n",
        "x.grad = None\n",
        "y.grad = None\n",
        "\n",
        "print(l)\n",
        "print(x.grad)\n",
        "print(y.grad)"
      ]
    },
    {
      "cell_type": "markdown",
      "metadata": {
        "id": "-JZxBdVFOquv"
      },
      "source": [
        "### `.detach()`\n",
        "\n"
      ]
    },
    {
      "cell_type": "markdown",
      "metadata": {
        "id": "DikCUy2UOquv"
      },
      "source": [
        "Once again compute the same function, but this time let `l = 2*z + 3*z.detach()`. Call `make_dot()` and visualize the computation graph."
      ]
    },
    {
      "cell_type": "code",
      "execution_count": 117,
      "metadata": {
        "id": "2deQc6mxOquv",
        "colab": {
          "base_uri": "https://localhost:8080/",
          "height": 453
        },
        "outputId": "8d785521-6d98-4930-efeb-6fae83b79484"
      },
      "outputs": [
        {
          "output_type": "execute_result",
          "data": {
            "image/svg+xml": "<?xml version=\"1.0\" encoding=\"UTF-8\" standalone=\"no\"?>\n<!DOCTYPE svg PUBLIC \"-//W3C//DTD SVG 1.1//EN\"\n \"http://www.w3.org/Graphics/SVG/1.1/DTD/svg11.dtd\">\n<!-- Generated by graphviz version 2.43.0 (0)\n -->\n<!-- Title: %3 Pages: 1 -->\n<svg width=\"228pt\" height=\"324pt\"\n viewBox=\"0.00 0.00 228.00 324.00\" xmlns=\"http://www.w3.org/2000/svg\" xmlns:xlink=\"http://www.w3.org/1999/xlink\">\n<g id=\"graph0\" class=\"graph\" transform=\"scale(1 1) rotate(0) translate(4 320)\">\n<title>%3</title>\n<polygon fill=\"white\" stroke=\"transparent\" points=\"-4,4 -4,-320 224,-320 224,4 -4,4\"/>\n<!-- 135129197327008 -->\n<g id=\"node1\" class=\"node\">\n<title>135129197327008</title>\n<polygon fill=\"#caff70\" stroke=\"black\" points=\"136.5,-30 82.5,-30 82.5,0 136.5,0 136.5,-30\"/>\n<text text-anchor=\"middle\" x=\"109.5\" y=\"-18\" font-family=\"monospace\" font-size=\"10.00\">l</text>\n<text text-anchor=\"middle\" x=\"109.5\" y=\"-7\" font-family=\"monospace\" font-size=\"10.00\"> ()</text>\n</g>\n<!-- 135129204870784 -->\n<g id=\"node2\" class=\"node\">\n<title>135129204870784</title>\n<polygon fill=\"lightgrey\" stroke=\"black\" points=\"154,-85 65,-85 65,-66 154,-66 154,-85\"/>\n<text text-anchor=\"middle\" x=\"109.5\" y=\"-73\" font-family=\"monospace\" font-size=\"10.00\">AddBackward0</text>\n</g>\n<!-- 135129204870784&#45;&gt;135129197327008 -->\n<g id=\"edge7\" class=\"edge\">\n<title>135129204870784&#45;&gt;135129197327008</title>\n<path fill=\"none\" stroke=\"black\" d=\"M109.5,-65.87C109.5,-59.11 109.5,-49.35 109.5,-40.26\"/>\n<polygon fill=\"black\" stroke=\"black\" points=\"113,-40.11 109.5,-30.11 106,-40.11 113,-40.11\"/>\n</g>\n<!-- 135129204869680 -->\n<g id=\"node3\" class=\"node\">\n<title>135129204869680</title>\n<polygon fill=\"lightgrey\" stroke=\"black\" points=\"154,-140 65,-140 65,-121 154,-121 154,-140\"/>\n<text text-anchor=\"middle\" x=\"109.5\" y=\"-128\" font-family=\"monospace\" font-size=\"10.00\">MulBackward0</text>\n</g>\n<!-- 135129204869680&#45;&gt;135129204870784 -->\n<g id=\"edge1\" class=\"edge\">\n<title>135129204869680&#45;&gt;135129204870784</title>\n<path fill=\"none\" stroke=\"black\" d=\"M109.5,-120.75C109.5,-113.8 109.5,-103.85 109.5,-95.13\"/>\n<polygon fill=\"black\" stroke=\"black\" points=\"113,-95.09 109.5,-85.09 106,-95.09 113,-95.09\"/>\n</g>\n<!-- 135129204867712 -->\n<g id=\"node4\" class=\"node\">\n<title>135129204867712</title>\n<polygon fill=\"lightgrey\" stroke=\"black\" points=\"154,-195 65,-195 65,-176 154,-176 154,-195\"/>\n<text text-anchor=\"middle\" x=\"109.5\" y=\"-183\" font-family=\"monospace\" font-size=\"10.00\">AddBackward0</text>\n</g>\n<!-- 135129204867712&#45;&gt;135129204869680 -->\n<g id=\"edge2\" class=\"edge\">\n<title>135129204867712&#45;&gt;135129204869680</title>\n<path fill=\"none\" stroke=\"black\" d=\"M109.5,-175.75C109.5,-168.8 109.5,-158.85 109.5,-150.13\"/>\n<polygon fill=\"black\" stroke=\"black\" points=\"113,-150.09 109.5,-140.09 106,-150.09 113,-150.09\"/>\n</g>\n<!-- 135129204867760 -->\n<g id=\"node5\" class=\"node\">\n<title>135129204867760</title>\n<polygon fill=\"lightgrey\" stroke=\"black\" points=\"101,-250 0,-250 0,-231 101,-231 101,-250\"/>\n<text text-anchor=\"middle\" x=\"50.5\" y=\"-238\" font-family=\"monospace\" font-size=\"10.00\">AccumulateGrad</text>\n</g>\n<!-- 135129204867760&#45;&gt;135129204867712 -->\n<g id=\"edge3\" class=\"edge\">\n<title>135129204867760&#45;&gt;135129204867712</title>\n<path fill=\"none\" stroke=\"black\" d=\"M59.98,-230.98C68.7,-223.15 81.84,-211.34 92.4,-201.86\"/>\n<polygon fill=\"black\" stroke=\"black\" points=\"94.75,-204.46 99.85,-195.17 90.07,-199.25 94.75,-204.46\"/>\n</g>\n<!-- 135129195467696 -->\n<g id=\"node6\" class=\"node\">\n<title>135129195467696</title>\n<polygon fill=\"lightblue\" stroke=\"black\" points=\"77.5,-316 23.5,-316 23.5,-286 77.5,-286 77.5,-316\"/>\n<text text-anchor=\"middle\" x=\"50.5\" y=\"-304\" font-family=\"monospace\" font-size=\"10.00\">x</text>\n<text text-anchor=\"middle\" x=\"50.5\" y=\"-293\" font-family=\"monospace\" font-size=\"10.00\"> ()</text>\n</g>\n<!-- 135129195467696&#45;&gt;135129204867760 -->\n<g id=\"edge4\" class=\"edge\">\n<title>135129195467696&#45;&gt;135129204867760</title>\n<path fill=\"none\" stroke=\"black\" d=\"M50.5,-285.84C50.5,-278.21 50.5,-268.7 50.5,-260.45\"/>\n<polygon fill=\"black\" stroke=\"black\" points=\"54,-260.27 50.5,-250.27 47,-260.27 54,-260.27\"/>\n</g>\n<!-- 135129204870736 -->\n<g id=\"node7\" class=\"node\">\n<title>135129204870736</title>\n<polygon fill=\"lightgrey\" stroke=\"black\" points=\"220,-250 119,-250 119,-231 220,-231 220,-250\"/>\n<text text-anchor=\"middle\" x=\"169.5\" y=\"-238\" font-family=\"monospace\" font-size=\"10.00\">AccumulateGrad</text>\n</g>\n<!-- 135129204870736&#45;&gt;135129204867712 -->\n<g id=\"edge5\" class=\"edge\">\n<title>135129204870736&#45;&gt;135129204867712</title>\n<path fill=\"none\" stroke=\"black\" d=\"M159.86,-230.98C150.99,-223.15 137.63,-211.34 126.89,-201.86\"/>\n<polygon fill=\"black\" stroke=\"black\" points=\"129.13,-199.17 119.32,-195.17 124.49,-204.41 129.13,-199.17\"/>\n</g>\n<!-- 135129197751872 -->\n<g id=\"node8\" class=\"node\">\n<title>135129197751872</title>\n<polygon fill=\"lightblue\" stroke=\"black\" points=\"196.5,-316 142.5,-316 142.5,-286 196.5,-286 196.5,-316\"/>\n<text text-anchor=\"middle\" x=\"169.5\" y=\"-304\" font-family=\"monospace\" font-size=\"10.00\">y</text>\n<text text-anchor=\"middle\" x=\"169.5\" y=\"-293\" font-family=\"monospace\" font-size=\"10.00\"> ()</text>\n</g>\n<!-- 135129197751872&#45;&gt;135129204870736 -->\n<g id=\"edge6\" class=\"edge\">\n<title>135129197751872&#45;&gt;135129204870736</title>\n<path fill=\"none\" stroke=\"black\" d=\"M169.5,-285.84C169.5,-278.21 169.5,-268.7 169.5,-260.45\"/>\n<polygon fill=\"black\" stroke=\"black\" points=\"173,-260.27 169.5,-250.27 166,-260.27 173,-260.27\"/>\n</g>\n</g>\n</svg>\n",
            "text/plain": [
              "<graphviz.graphs.Digraph at 0x7ae638414800>"
            ]
          },
          "metadata": {},
          "execution_count": 117
        }
      ],
      "source": [
        "# compute z and l\n",
        "l = 2*z + 3*z.detach()\n",
        "\n",
        "make_dot(l, params={\"x\": x, \"y\": y, \"l\": l})"
      ]
    },
    {
      "cell_type": "markdown",
      "metadata": {
        "id": "2TnqIWAIOquv"
      },
      "source": [
        "The computation graph has changed because `3*z.detach()` looks like the number 9 to the compuation graph.\n",
        "The output has not changed though, $l = 2z + 9 = 2(x + y) + 9 = 6 + 9 = 15$. However, our gradients are changed because $\\frac{d}{dx} 2(x+y) + 9 = \\frac{d}{dx} 2x = 2$ and $\\frac{d}{dy} 2(x+y) + 9= \\frac{d}{dy} 2y = 2$.\n",
        "Take the derivative of `l` (don't forget to zero out the gradients of `x` and `y`) and print out `l` and the gradients of `x` and `y` to validate this is true."
      ]
    },
    {
      "cell_type": "code",
      "execution_count": 119,
      "metadata": {
        "id": "MYTFhlQaOquw",
        "colab": {
          "base_uri": "https://localhost:8080/"
        },
        "outputId": "6ff94163-5f1d-45db-c88f-fea7afdc97ce"
      },
      "outputs": [
        {
          "output_type": "stream",
          "name": "stdout",
          "text": [
            "tensor(15., grad_fn=<AddBackward0>)\n",
            "None\n",
            "None\n"
          ]
        }
      ],
      "source": [
        "l = 2*z + 3*z.detach()\n",
        "x.grad = None\n",
        "y.grad = None\n",
        "\n",
        "print(l)\n",
        "print(x.grad)\n",
        "print(y.grad)"
      ]
    },
    {
      "cell_type": "markdown",
      "metadata": {
        "id": "gH4C-ixiOquw"
      },
      "source": [
        "---\n",
        "\n",
        "# Gradient Descent Learning"
      ]
    },
    {
      "cell_type": "code",
      "execution_count": 120,
      "metadata": {
        "id": "bgKzMWRTOquw"
      },
      "outputs": [],
      "source": [
        "import numpy as np\n",
        "import matplotlib.pyplot as plt\n",
        "from matplotlib import cm\n",
        "import matplotlib.animation as animation\n",
        "from typing import List"
      ]
    },
    {
      "cell_type": "markdown",
      "metadata": {
        "id": "iAXxMZaWOquw"
      },
      "source": [
        "Why do we care about using PyTorch's autodiff functionality?\n",
        "Because it can be utilized for optimization.\n",
        "Assume for example, we have $n$ data points and we want to find a line that best fits the data, differentiation can tell us how to find the best fitting line through gradient descent."
      ]
    },
    {
      "cell_type": "markdown",
      "metadata": {
        "id": "AcbyZgD-Oquw"
      },
      "source": [
        "First let's create a Random Number Generator (RNG) to make sure our experiment is reproducible"
      ]
    },
    {
      "cell_type": "code",
      "execution_count": 121,
      "metadata": {
        "id": "fm668cwkOqux"
      },
      "outputs": [],
      "source": [
        "rng = np.random.default_rng(42)"
      ]
    },
    {
      "cell_type": "markdown",
      "metadata": {
        "id": "4qm5pRfgOquy"
      },
      "source": [
        "And now let's generate our data.\n",
        "The true slope to our line is $m=.3$ and the our true intercept is $b=.25$.\n",
        "Our data is 9 data points along this line with some added noise."
      ]
    },
    {
      "cell_type": "code",
      "execution_count": 122,
      "metadata": {
        "id": "GslnNWE0Oquy"
      },
      "outputs": [],
      "source": [
        "true_m = .3\n",
        "true_b = .25\n",
        "x_data = np.linspace(.1, .9, 9)\n",
        "noise = rng.normal(0, 1, size=x_data.shape) * .1\n",
        "y_data = true_m*x_data + true_b + noise"
      ]
    },
    {
      "cell_type": "markdown",
      "metadata": {
        "id": "Rx8GpfbCOquy"
      },
      "source": [
        "Below are some helper functions.\n",
        "You don't need to look at them, just execute the cell below and move on."
      ]
    },
    {
      "cell_type": "code",
      "execution_count": 123,
      "metadata": {
        "id": "La6b6KBGOquy"
      },
      "outputs": [],
      "source": [
        "def _add_true_fn_and_data(ax, handles, labels):\n",
        "    ax.set_xlim(-.05, 1.05)\n",
        "    ax.set_ylim(-.05, 1.05)\n",
        "    ax.set_xlabel(r\"x\")\n",
        "    ax.set_ylabel(r\"y\")\n",
        "    ax.set_title(\"Input/Output Plot\")\n",
        "    # Plot data\n",
        "    ax.scatter(x_data, y_data)\n",
        "    # Plot true function\n",
        "    xs = np.linspace(0, 1, 100)\n",
        "    true_ys = true_m*xs + true_b\n",
        "    handle, = ax.plot(xs, true_ys, label=\"true fn\")\n",
        "    handles.append(handle)\n",
        "    labels.append(\"true fn\")\n",
        "\n",
        "\n",
        "def _add_pred_fn_and_errors(pred_m, pred_b, ax, handles, labels):\n",
        "    xs = np.linspace(0, 1, 100)\n",
        "    pred_ys = pred_m * xs + pred_b\n",
        "    pred_line, = ax.plot(xs, pred_ys, label=\"pred fn\")\n",
        "    handles.append(pred_line)\n",
        "    labels.append(\"pred fn\")\n",
        "\n",
        "    pred_y = pred_m * x_data + pred_b\n",
        "    errors = pred_y - y_data\n",
        "    error_lines = []\n",
        "    for x_i, y_i, error in zip(x_data, y_data, errors):\n",
        "        error_line, = ax.plot([x_i, x_i], [y_i, y_i + error], c=\"red\", label=\"error\")\n",
        "        error_lines.append(error_line)\n",
        "    handles.append(error_line)\n",
        "    labels.append(\"error\")\n",
        "    return pred_line, error_lines\n",
        "\n",
        "\n",
        "def _add_loss_surface(ax, m_min=-1, m_max=1.5, b_min=-.4, b_max=.9):\n",
        "    steps = 50\n",
        "    m_space = np.linspace(m_min, m_max, steps)\n",
        "    b_space = np.linspace(b_min, b_max, steps)\n",
        "\n",
        "    MM, BB = np.meshgrid(m_space, b_space, indexing=\"ij\")\n",
        "    MM = MM.reshape(steps * steps)\n",
        "    BB = BB.reshape(steps * steps)\n",
        "\n",
        "    YY = MM[:, None] @ x_data[None, :] + BB[:, None]\n",
        "    EE = YY - y_data[None, :]\n",
        "    EE = np.mean(EE**2, axis=1)\n",
        "\n",
        "    MM = MM.reshape(steps, steps)\n",
        "    BB = BB.reshape(steps, steps)\n",
        "    EE = EE.reshape(steps, steps)\n",
        "\n",
        "    ax.contourf(MM, BB, np.log2(EE))\n",
        "    ax.set_title(\"Loss Surface\")\n",
        "    ax.set_xlabel(\"slope \" + r\"($m$)\")\n",
        "    ax.set_ylabel(\"intercept \" + r\"($b$)\")\n",
        "\n",
        "\n",
        "def plot_data(pred_m=None, pred_b=None, figsize=(6, 6)):\n",
        "    fig, ax = plt.subplots(1, 1, figsize=figsize)\n",
        "    handles = []\n",
        "    labels = []\n",
        "\n",
        "    _add_true_fn_and_data(ax=ax, handles=handles, labels=labels)\n",
        "\n",
        "    # Plot predicted function\n",
        "    if pred_m is not None or pred_b is not None:\n",
        "        if pred_m is None:\n",
        "            pred_m = 0\n",
        "        if pred_b is None:\n",
        "            pred_b = 0\n",
        "        _add_pred_fn_and_errors(pred_m=pred_m, pred_b=pred_b, ax=ax, handles=handles, labels=labels)\n",
        "\n",
        "    ax.legend(handles, labels)\n",
        "    plt.show()\n",
        "\n",
        "\n",
        "def plot_1d_loss_surface(pred_ms=None, pred_bs=None, figsize=(12, 6)):\n",
        "    if pred_ms is None and pred_bs is None:\n",
        "        raise ValueError(f\"Expected pred_ms or pred_bs to be not None\")\n",
        "    if pred_ms is not None and pred_bs is not None:\n",
        "        print(f\"Both pred_ms and pred_bs are not None and function will default to using pred_ms\")\n",
        "\n",
        "    fig, axes = plt.subplots(1, 2, figsize=figsize)\n",
        "    handles = []\n",
        "    labels = []\n",
        "\n",
        "    ### Input Output ###\n",
        "    inp_out_ax = axes[0]\n",
        "    _add_true_fn_and_data(ax=inp_out_ax, handles=handles, labels=labels)\n",
        "\n",
        "    # Plot predicted function\n",
        "    pred_vars = None\n",
        "    if pred_ms is not None:\n",
        "        pred_ms = np.array(pred_ms)\n",
        "        pred_ms = np.concatenate((pred_ms, pred_ms[::-1]))\n",
        "        pred_bs = np.zeros_like(pred_ms)\n",
        "        loss_title = \"Loss Surface With Respect To Slope\"\n",
        "        loss_xlabel = \"slope\"\n",
        "        pred_vars = pred_ms\n",
        "    else:\n",
        "        pred_bs = np.array(pred_bs)\n",
        "        pred_bs = np.concatenate((pred_bs, pred_bs[::-1]))\n",
        "        pred_ms = np.zeros_like(pred_bs)\n",
        "        loss_title = \"Loss Surface With Respect To Intercept\"\n",
        "        loss_xlabel = \"intercept\"\n",
        "        pred_vars = pred_bs\n",
        "\n",
        "    pred_line, error_lines = _add_pred_fn_and_errors(pred_m=pred_ms[0], pred_b=pred_bs[0], ax=inp_out_ax, handles=handles, labels=labels)\n",
        "\n",
        "    inp_out_ax.legend(handles, labels)\n",
        "\n",
        "    ### 1D Loss Surface ###\n",
        "    loss_ax = axes[1]\n",
        "\n",
        "    pred_ys = x_data[:, None] @ pred_ms[None, :] + pred_bs\n",
        "    sses = np.sum((y_data[:, None] - pred_ys)**2, axis=0)\n",
        "\n",
        "    loss_ax.plot(pred_vars[:len(pred_vars)//2], sses[:len(sses)//2])\n",
        "\n",
        "    loss_scatter = loss_ax.scatter(pred_vars[0:1], sses[0:1])\n",
        "\n",
        "    loss_ax.set_title(loss_title)\n",
        "    loss_ax.set_xlabel(loss_xlabel)\n",
        "    loss_ax.set_ylabel(\"Sum Square Error\")\n",
        "\n",
        "    xs = np.linspace(0, 1, 100)\n",
        "    def update(frame):\n",
        "        # for each frame, update the data stored on each artist.\n",
        "        pred_m = pred_ms[frame]\n",
        "        pred_b = pred_bs[frame]\n",
        "        pred_ys = pred_m * xs + pred_b\n",
        "\n",
        "        pred_line.set_ydata(pred_ys)\n",
        "\n",
        "        pred_y = pred_m * x_data + pred_b\n",
        "        errors = pred_y - y_data\n",
        "\n",
        "        for error_line, y_i, error in zip(error_lines, y_data, errors):\n",
        "            error_line.set_ydata([y_i, y_i + error])\n",
        "\n",
        "        loss_scatter.set_offsets(np.array([pred_vars[frame], sses[frame]]))\n",
        "\n",
        "        return (pred_line, *error_lines, loss_scatter)\n",
        "\n",
        "    anim = animation.FuncAnimation(fig=fig, func=update, frames=len(pred_ms), interval=50, blit=True)\n",
        "    from IPython.display import HTML\n",
        "    anim = HTML(anim.to_html5_video())\n",
        "    plt.close('all')\n",
        "    del fig\n",
        "    return anim\n",
        "\n",
        "\n",
        "def plot_2d_loss_surface():\n",
        "    def fan_linspace(start, diff, step, fan_up=True):\n",
        "        quarter_step = step//4\n",
        "        offset = diff\n",
        "        if not fan_up:\n",
        "            offset = -diff\n",
        "        return np.concatenate([np.linspace(start, start+offset, quarter_step),\n",
        "                            np.linspace(start+offset, start, quarter_step),\n",
        "                            np.linspace(start, start-offset, quarter_step),\n",
        "                            np.linspace(start-offset, start, quarter_step)])\n",
        "\n",
        "    sim_steps = 50\n",
        "    anim_pred_ms = np.concatenate([np.full(sim_steps, true_m), fan_linspace(true_m, true_m*2, sim_steps), (true_m - .5 + np.cos(np.linspace(0, 2*np.pi, sim_steps)) / 2).tolist(), (true_m + .5 + np.cos(np.linspace(np.pi, 3*np.pi, sim_steps)) / 2).tolist()])[:, None]\n",
        "    anim_pred_bs = np.concatenate([fan_linspace(true_b, true_b*2, sim_steps), np.full(sim_steps, true_b), (true_b + np.sin(np.linspace(0, 2*np.pi, sim_steps)) / 2).tolist(), (true_b + np.sin(np.linspace(0, 2*np.pi, sim_steps)) / 2).tolist()])[:, None]\n",
        "\n",
        "    fig, axes = plt.subplots(1, 2, figsize=(12, 6))\n",
        "    handles = []\n",
        "    labels = []\n",
        "\n",
        "    ### Input Output ###\n",
        "    inp_out_ax = axes[0]\n",
        "    _add_true_fn_and_data(inp_out_ax, handles, labels)\n",
        "    pred_line, error_lines = _add_pred_fn_and_errors(anim_pred_ms[0], anim_pred_bs[0], inp_out_ax, handles, labels)\n",
        "    inp_out_ax.set_xlim(-.2, 1.2)\n",
        "    inp_out_ax.set_ylim(-.2, 1.2)\n",
        "    inp_out_ax.legend(handles, labels)\n",
        "\n",
        "    ### Loss Surface ###\n",
        "    loss_ax = axes[1]\n",
        "    _add_loss_surface(loss_ax)\n",
        "    loss_scatter = loss_ax.scatter(anim_pred_ms[0:1], anim_pred_bs[0:1], c=\"orange\")\n",
        "\n",
        "    xs = np.linspace(0, 1, 100)\n",
        "    def update(frame):\n",
        "        # for each frame, update the data stored on each artist.\n",
        "        pred_m = anim_pred_ms[frame]\n",
        "        pred_b = anim_pred_bs[frame]\n",
        "        pred_ys = pred_m * xs + pred_b\n",
        "\n",
        "        pred_line.set_ydata(pred_ys)\n",
        "\n",
        "        pred_y = pred_m * x_data + pred_b\n",
        "        errors = pred_y - y_data\n",
        "\n",
        "        for error_line, y_i, error in zip(error_lines, y_data, errors):\n",
        "            error_line.set_ydata([y_i, y_i + error])\n",
        "\n",
        "        loss_scatter.set_offsets(np.concatenate([anim_pred_ms[frame], anim_pred_bs[frame]]))\n",
        "\n",
        "        return (pred_line, *error_lines, loss_scatter)\n",
        "\n",
        "\n",
        "    anim = animation.FuncAnimation(fig=fig, func=update, frames=len(anim_pred_ms), interval=45, blit=True)\n",
        "    from IPython.display import HTML\n",
        "    anim = HTML(anim.to_html5_video())\n",
        "    plt.close('all')\n",
        "    del fig\n",
        "    return anim\n",
        "\n",
        "def plot_slope_grad(m: torch.Tensor | List[torch.Tensor], grad: torch.Tensor | List[torch.Tensor] | None, learning_rate: float = 1., figsize=(4, 3)):\n",
        "    fig, ax = plt.subplots(figsize=figsize)\n",
        "    # Plot loss surface\n",
        "    xs = np.linspace(-1.2, 2.5, 100)\n",
        "    y_hat = x_data[:, None] @ xs[None, :]\n",
        "    sses = np.sum((y_hat - y_data[:, None])**2, axis=0)\n",
        "    ax.plot(xs, sses)\n",
        "\n",
        "    # Plot gradient\n",
        "    if isinstance(m, torch.Tensor):\n",
        "        m = [m]\n",
        "    handle = None\n",
        "    for i in range(len(m)):\n",
        "        loss = np.sum((x_data * m[i].item() - y_data)**2)\n",
        "        ax.scatter(x=[m[i].item()], y=[loss], color='r')\n",
        "        if grad is not None:\n",
        "            if grad[i] is None:\n",
        "                continue\n",
        "            handle = ax.arrow(x=m[i].item(), y=loss, dx=grad[i].item() * learning_rate, dy=0, head_width=0.2, head_length=0.1, width=0.01, color='r', length_includes_head=True, label=\"gradient\")\n",
        "\n",
        "    if handle is not None:\n",
        "        ax.legend([handle], [\"gradient\"])\n",
        "\n",
        "    ax.set_xlabel(\"slope \" + r\"($m$)\")\n",
        "    ax.set_ylabel(\"SSE Loss\")\n",
        "\n",
        "    plt.show()\n",
        "\n",
        "\n",
        "def plot_grad(m: torch.Tensor | List[torch.Tensor],\n",
        "              b: torch.Tensor | List[torch.Tensor],\n",
        "              m_grad: torch.Tensor | List[torch.Tensor] | None,\n",
        "              b_grad: torch.Tensor | List[torch.Tensor] | None,\n",
        "              learning_rate: float = 1., figsize=(4, 4)):\n",
        "    fig, ax = plt.subplots(figsize=figsize)\n",
        "    _add_loss_surface(ax, m_min=-3, m_max=3, b_min=-3, b_max=3)\n",
        "\n",
        "    if isinstance(m, torch.Tensor):\n",
        "        m = [m]\n",
        "        m_grad = [m_grad]\n",
        "        b = [b]\n",
        "        b_grad = [b_grad]\n",
        "\n",
        "    handle = None\n",
        "    for i in range(len(m)):\n",
        "        ax.scatter(x=[m[i].item()], y=[b[i].item()], color='r')\n",
        "        if m_grad is not None:\n",
        "            if m_grad[i] is None:\n",
        "                continue\n",
        "            handle = ax.arrow(x=m[i].item(), y=b[i].item(), dx=m_grad[i].item() * learning_rate, dy=b_grad[i].item() * learning_rate,\n",
        "                              head_width=0.2, head_length=0.1, width=0.01, color='r', length_includes_head=True, label=\"gradient\")\n",
        "\n",
        "    if handle is not None:\n",
        "        ax.legend([handle], [\"gradient\"])\n",
        "\n",
        "    ax.set_xlabel(\"slope \" + r\"($m$)\")\n",
        "    ax.set_ylabel(\"intercept \" + r\"($b$)\")"
      ]
    },
    {
      "cell_type": "markdown",
      "metadata": {
        "id": "LDFz2kmhOquz"
      },
      "source": [
        "Now that we have generated our data, call `plot_data()` so we can see what it looks like, you don't have to pass in any arguments."
      ]
    },
    {
      "cell_type": "code",
      "execution_count": 124,
      "metadata": {
        "id": "b93saVj_Oquz",
        "colab": {
          "base_uri": "https://localhost:8080/",
          "height": 564
        },
        "outputId": "4fdd6a0e-7731-4c99-eb55-090129d3ef5f"
      },
      "outputs": [
        {
          "output_type": "display_data",
          "data": {
            "text/plain": [
              "<Figure size 600x600 with 1 Axes>"
            ],
            "image/png": "[encoded data removed]"
          },
          "metadata": {}
        }
      ],
      "source": [
        "plot_data()"
      ]
    },
    {
      "cell_type": "markdown",
      "metadata": {
        "id": "-Df39gJjOquz"
      },
      "source": [
        "Now call `plot_data()`, but this time pass in a prediction for the slope (e.g.\n",
        "`pred_m=0.5`) and intercept (e.g. `pred_b=0.1`)."
      ]
    },
    {
      "cell_type": "code",
      "execution_count": 125,
      "metadata": {
        "id": "MlGZHS3uOquz",
        "colab": {
          "base_uri": "https://localhost:8080/",
          "height": 564
        },
        "outputId": "9a6e4826-c9f5-4c0c-9ce2-65de7ef0f75e"
      },
      "outputs": [
        {
          "output_type": "display_data",
          "data": {
            "text/plain": [
              "<Figure size 600x600 with 1 Axes>"
            ],
            "image/png": "[encoded data removed]"
          },
          "metadata": {}
        }
      ],
      "source": [
        "plot_data(pred_m=0.5, pred_b=0.1)"
      ]
    },
    {
      "cell_type": "markdown",
      "metadata": {
        "id": "ahhxkaYUOquz"
      },
      "source": [
        "The errors $e$ are computed by looking at the difference between the true data $y$ and our predictions $\\hat{y}$, i.e. $e = y - \\hat{y}$.\n",
        "Now if we squared our errors and then took their sum, i.e compute the sum squared error (SSE), $\\sum (y - \\hat{y})^2$ then we get a single value, which we call the loss, that tells us how good our prediction function fits the data.\n",
        "\n",
        "Furthermore, if we moved the predicted slope around we could see how different slopes compare to each either through the loss.\n",
        "To visualize this look execute the cell below."
      ]
    },
    {
      "cell_type": "code",
      "execution_count": null,
      "metadata": {
        "id": "JMPWwaHOOqu0"
      },
      "outputs": [],
      "source": [
        "plot_1d_loss_surface(pred_ms=np.linspace(0, 1, 40))"
      ]
    },
    {
      "cell_type": "markdown",
      "metadata": {
        "id": "rDiJTGjPOqu0"
      },
      "source": [
        "If we are trying to find the slope that will minimize our loss, we can use the gradient to tell is which direction we need to move in order to optimize our objective.\n",
        "First, we are going to convert `x_data` and `y_data` from numpy arrays into tensors."
      ]
    },
    {
      "cell_type": "code",
      "execution_count": null,
      "metadata": {
        "id": "6GneqZWuOqu0"
      },
      "outputs": [],
      "source": [
        "x = torch.from_numpy(x_data).float().unsqueeze(1)\n",
        "y = torch.from_numpy(y_data).float().unsqueeze(1)"
      ]
    },
    {
      "cell_type": "markdown",
      "metadata": {
        "id": "VjqT73AvOqu0"
      },
      "source": [
        "Now create two functions: `forward()` and `sse_loss()`.\n",
        "\n",
        "The `forward()` function does forward propagation.\n",
        "We apply the slope formula $m \\times x+b$, but we need to vectorize it. Dimension 0 of `x` is the \"batch\" dimension: it separates the 9 individual points. Dimension 1 of `x` is the \"channel\" dimension which contains a single channel of data (since the input is a point in 1D space). To get our y predictions, we perform the same function on each batch instance: so we need to matrix-multiply our slope `m` across dimension 1 of `x`. Our model's prediction is:\n",
        "\n",
        "$\\hat{y} = xm + b$\n",
        "\n",
        "where `x.shape==[9,1]`, `m.shape==[1,1]`, `b.shape=[1]`.\n",
        "\n",
        "This ensures that the output `y_hat.shape==[9,1]`: we predict one y-value per point."
      ]
    },
    {
      "cell_type": "code",
      "execution_count": null,
      "metadata": {
        "id": "3vjJRoe3Oqu0"
      },
      "outputs": [],
      "source": [
        "def forward(m, b, x):\n",
        "    # implement forward and return xm^T + b\n",
        "    pass"
      ]
    },
    {
      "cell_type": "markdown",
      "metadata": {
        "id": "7uIAhgpbOqu0"
      },
      "source": [
        "The `sse_loss()` function takes your predictions `y_hat` and compares it to the true output `y`, by computing the sum of the squared errors."
      ]
    },
    {
      "cell_type": "code",
      "execution_count": null,
      "metadata": {
        "id": "fOOw3snZOqu1"
      },
      "outputs": [],
      "source": [
        "def sse_loss(y_hat, y):\n",
        "    # return the sse loss\n",
        "    pass"
      ]
    },
    {
      "cell_type": "markdown",
      "metadata": {
        "id": "Twyf8izMOqu1"
      },
      "source": [
        "Execute the cell below to validate your `forward()` and `sse_loss()` work correctly."
      ]
    },
    {
      "cell_type": "code",
      "execution_count": null,
      "metadata": {
        "id": "AarcvNJGOqu1"
      },
      "outputs": [],
      "source": [
        "m = torch.tensor([[2.]])\n",
        "b = torch.tensor([[0.]])\n",
        "y_hat = forward(m, b, x)\n",
        "loss = sse_loss(y_hat, y)\n",
        "assert torch.allclose(loss, torch.tensor(5.4452))\n",
        "\n",
        "m = torch.tensor([[1.]])\n",
        "b = torch.tensor([[1.]])\n",
        "y_hat = forward(m, b, x)\n",
        "loss = sse_loss(y_hat, y)\n",
        "assert torch.allclose(loss, torch.tensor(11.8534))"
      ]
    },
    {
      "cell_type": "markdown",
      "metadata": {
        "id": "6Q5-vFbyOqu1"
      },
      "source": [
        "We will now analyze what the gradients tell us.\n",
        "At the moment we will only focus on a single parameter: the slope `m`.\n",
        "Go ahead and execute the cell below."
      ]
    },
    {
      "cell_type": "code",
      "execution_count": null,
      "metadata": {
        "id": "l1peeg3MOqu1"
      },
      "outputs": [],
      "source": [
        "m = torch.tensor([[2.]]).float()\n",
        "b = torch.tensor([[0]]).float()\n",
        "m.requires_grad = True\n",
        "b.requires_grad = False"
      ]
    },
    {
      "cell_type": "markdown",
      "metadata": {
        "id": "gfdwqmErOqu2"
      },
      "source": [
        "Now use your `forward()` and `sse_loss()` functions to get the SSE loss for `m` and `b` and then calculate the derivative of loss, i.e. call `loss.backward()`."
      ]
    },
    {
      "cell_type": "code",
      "execution_count": null,
      "metadata": {
        "id": "srZPQY28Oqu2"
      },
      "outputs": [],
      "source": [
        "y_hat = forward(m, b, x)\n",
        "loss = sse_loss(y_hat, y)\n",
        "loss.backward()"
      ]
    },
    {
      "cell_type": "markdown",
      "metadata": {
        "id": "1DSTCqR4Oqu2"
      },
      "source": [
        "Execute the cell below and validate you calculated the correct gradient."
      ]
    },
    {
      "cell_type": "code",
      "execution_count": null,
      "metadata": {
        "id": "SKXVvM52Oqu2"
      },
      "outputs": [],
      "source": [
        "assert torch.allclose(m.grad, torch.tensor(7.7423))"
      ]
    },
    {
      "cell_type": "markdown",
      "metadata": {
        "id": "ov4jevzjOqu2"
      },
      "source": [
        "Now call the `plot_slope_grad()` function below to visualize what the gradient is pointing towards."
      ]
    },
    {
      "cell_type": "code",
      "execution_count": null,
      "metadata": {
        "id": "9Kwof-YAOqu3"
      },
      "outputs": [],
      "source": [
        "# execute this cell\n",
        "plot_slope_grad(m, m.grad)"
      ]
    },
    {
      "cell_type": "markdown",
      "metadata": {
        "id": "PKyDv94jOqu3"
      },
      "source": [
        "Notice how the gradient points towards away from the minimal point, this is because gradients point towards \"steepest ascent\" (which will become more apparent when we work with 2d loss surfaces).\n",
        "To move towards the the minimal point we therefore need to move in the opposite direction, i.e. `-m.grad`.\n",
        "Create the same plot, but point the gradient in the opposite direction."
      ]
    },
    {
      "cell_type": "code",
      "execution_count": null,
      "metadata": {
        "id": "EUDLRsXgOqu4"
      },
      "outputs": [],
      "source": []
    },
    {
      "cell_type": "markdown",
      "metadata": {
        "id": "vHdN1xlJOqu4"
      },
      "source": [
        "Now we are pointing in the right direction, but as you can see the gradient, $\\nabla m$, is telling our slope, $m$, to become $m \\approx -6$, which clearly overshoots the minimal point.\n",
        "Therefore let's apply a learning rate, $\\alpha$, to our gradient.\n",
        "Call `plot_slope_grad()` one more time, but this time pass in the argument `learning_rate=.05`."
      ]
    },
    {
      "cell_type": "code",
      "execution_count": null,
      "metadata": {
        "id": "Iegany5KOqu4"
      },
      "outputs": [],
      "source": []
    },
    {
      "cell_type": "markdown",
      "metadata": {
        "id": "kCtHdxADOqu4"
      },
      "source": [
        "Now we are pointing in the right direction and with an acceptable magnitude (this learning rate is perhaps a little too small, but it is useful for our other visualizations).\n",
        "Now let's update our slope by apply the gradient, i.e. $m \\leftarrow m - \\alpha \\nabla m$.\n",
        "First print out `m - .05 * m.grad` below."
      ]
    },
    {
      "cell_type": "code",
      "execution_count": null,
      "metadata": {
        "id": "RHeyLsRKOqu4"
      },
      "outputs": [],
      "source": [
        "# execute this cell\n",
        "m - .05 * m.grad"
      ]
    },
    {
      "cell_type": "markdown",
      "metadata": {
        "id": "bi7wWtAVOqu4"
      },
      "source": [
        "You will notice this contains a `grad_fn` which means this operation was put on the computation graph because `m` is a tensor that requires gradients.\n",
        "We do not want to calculate gradients on our update step since we aren't doing meta-learning.\n",
        "\n",
        "Instead you should update `m` by accessing its `.data` variable and setting `m.data = m.data - .05 * m.grad.data`"
      ]
    },
    {
      "cell_type": "code",
      "execution_count": null,
      "metadata": {
        "id": "7EUFjBhBOqu5"
      },
      "outputs": [],
      "source": []
    },
    {
      "cell_type": "markdown",
      "metadata": {
        "id": "9z8b_25vOqu5"
      },
      "source": [
        "Now that we have updated our slope, call `plot_slope_grad()` below."
      ]
    },
    {
      "cell_type": "code",
      "execution_count": null,
      "metadata": {
        "id": "z_uSnnyGOqu5"
      },
      "outputs": [],
      "source": [
        "# execute this cell\n",
        "plot_slope_grad(m, None)"
      ]
    },
    {
      "cell_type": "markdown",
      "metadata": {
        "id": "hGfcKQv5Oqu5"
      },
      "source": [
        "We have take a step closer towards minimizing our loss, which means that our slope is beginning to fit our data better."
      ]
    },
    {
      "cell_type": "markdown",
      "metadata": {
        "id": "7QPGpbPfOqu5"
      },
      "source": [
        "Let's see how this function will operate for many timesteps.\n",
        "Follow the directions below and implement the `slope_optimization_step()` function."
      ]
    },
    {
      "cell_type": "code",
      "execution_count": null,
      "metadata": {
        "id": "WakbGjeeOqu6"
      },
      "outputs": [],
      "source": [
        "def slope_optimization_step(m: torch.Tensor, b, x, y, learning_rate):\n",
        "    # zero out your gradient\n",
        "    pass\n",
        "    # call your forward function\n",
        "    pass\n",
        "    # compute sse loss\n",
        "    pass\n",
        "    # call backward on the loss\n",
        "    pass\n",
        "    # apply your gradient and don't forget to use the learning_rate\n",
        "    pass"
      ]
    },
    {
      "cell_type": "markdown",
      "metadata": {
        "id": "4GK6rZfAOqu6"
      },
      "source": [
        "We will now use your `optimization_step` function to plot multiple optimization steps. Execute the cell below."
      ]
    },
    {
      "cell_type": "code",
      "execution_count": null,
      "metadata": {
        "id": "WEXmsmEpOqu6"
      },
      "outputs": [],
      "source": [
        "def plot_slope_optimization_steps(m, b, x, y, learning_rate, steps=4):\n",
        "    ms = [m.clone()]\n",
        "    grads = []\n",
        "    for _ in range(steps):\n",
        "        slope_optimization_step(m, b, x, y, learning_rate)\n",
        "        ms.append(m.clone())\n",
        "        grads.append(-m.grad.clone())\n",
        "\n",
        "    grads.append(None)\n",
        "    plot_slope_grad(ms, grads, learning_rate)\n",
        "\n",
        "m = torch.tensor([[2.5]]).float()\n",
        "b = torch.tensor([[0]]).float()\n",
        "m.requires_grad = True\n",
        "b.requires_grad = False\n",
        "\n",
        "plot_slope_optimization_steps(m, b, x, y, learning_rate=.05, steps=4)"
      ]
    },
    {
      "cell_type": "markdown",
      "metadata": {
        "id": "z12r6KeZOqu6"
      },
      "source": [
        "Now if we had a smaller learning rate ($\\alpha = .02$), it will take us more gradient steps to solve the problem. Execute the cell below to see."
      ]
    },
    {
      "cell_type": "code",
      "execution_count": null,
      "metadata": {
        "id": "Pz4XZdjZOqu7"
      },
      "outputs": [],
      "source": [
        "m = torch.tensor([[2.5]]).float()\n",
        "m.requires_grad = True\n",
        "\n",
        "plot_slope_optimization_steps(m, b, x, y, learning_rate=.02, steps=8)"
      ]
    },
    {
      "cell_type": "markdown",
      "metadata": {
        "id": "GHAgdtfgOqu7"
      },
      "source": [
        "But if our learning rate is too large ($\\alpha = .42$), then the parameter will bounce away from the minimal point. Execute the cell below to see. *Note that $m$ starts at 1 in this case*."
      ]
    },
    {
      "cell_type": "code",
      "execution_count": null,
      "metadata": {
        "id": "__ExxMDMOqu7"
      },
      "outputs": [],
      "source": [
        "m = torch.tensor([[1]]).float()\n",
        "m.requires_grad = True\n",
        "\n",
        "plot_slope_optimization_steps(m, b, x, y, learning_rate=.42, steps=4)"
      ]
    },
    {
      "cell_type": "markdown",
      "metadata": {
        "id": "TomPDXHDOqu7"
      },
      "source": [
        "Now let's work with on optimizing the slope $m$ and intercept $b$.\n",
        "Execute the cell below to see what the gradient tells us about $m$ and $b$."
      ]
    },
    {
      "cell_type": "code",
      "execution_count": null,
      "metadata": {
        "id": "D5Z2tn1fOqu7"
      },
      "outputs": [],
      "source": [
        "m = torch.tensor([[2.]]).float()\n",
        "b = torch.tensor([[1]]).float()\n",
        "m.requires_grad = True\n",
        "b.requires_grad = True\n",
        "y_hat = forward(m, b, x)\n",
        "loss = sse_loss(y_hat, y)\n",
        "loss.backward()\n",
        "plot_grad(m, b, m.grad, b.grad, learning_rate=.02)"
      ]
    },
    {
      "cell_type": "markdown",
      "metadata": {
        "id": "lnHwUPStOqu7"
      },
      "source": [
        "As stated before, the gradient points towards steepest ascent, and as you can imagine if we looked at the negative gradient it would point (indirectly) towards the minimal point of the loss.\n",
        "\n",
        "Let's visualize what gradient descent looks like for multiple steps.\n",
        "Follow the directions below and implement the `optimization_step()` function."
      ]
    },
    {
      "cell_type": "code",
      "execution_count": null,
      "metadata": {
        "id": "xY3HMSY4Oqu8"
      },
      "outputs": [],
      "source": [
        "def optimization_step(m: torch.Tensor, b: torch.Tensor, x, y, learning_rate):\n",
        "    # zero out your gradients\n",
        "    pass\n",
        "    pass\n",
        "    # call your forward function\n",
        "    pass\n",
        "    # compute sse loss\n",
        "    pass\n",
        "    # call backward\n",
        "    pass\n",
        "    # apply your gradients\n",
        "    pass\n",
        "    pass"
      ]
    },
    {
      "cell_type": "markdown",
      "metadata": {
        "id": "f2HEUiTjOqu8"
      },
      "source": [
        "We will now use your `optimization_step` function and plot what it looks like to perform multiple gradient descent steps.\n",
        "You can set the argument `plot_grads=False` to make the plot less noisy."
      ]
    },
    {
      "cell_type": "code",
      "execution_count": null,
      "metadata": {
        "id": "uoB7N3q0Oqu8"
      },
      "outputs": [],
      "source": [
        "def plot_optimization_steps(m, b, x, y, learning_rate, steps=4, plot_grads=True, figsize=(8, 8)):\n",
        "    ms = [m.clone()]\n",
        "    bs = [b.clone()]\n",
        "    m_grads = []\n",
        "    b_grads = []\n",
        "    for _ in range(steps):\n",
        "        optimization_step(m, b, x, y, learning_rate)\n",
        "        ms.append(m.clone())\n",
        "        bs.append(b.clone())\n",
        "        m_grads.append(-m.grad.clone())\n",
        "        b_grads.append(-b.grad.clone())\n",
        "\n",
        "    m_grads.append(None)\n",
        "    b_grads.append(None)\n",
        "    if plot_grads:\n",
        "        plot_grad(ms, bs, m_grads, b_grads, learning_rate, figsize=figsize)\n",
        "    else:\n",
        "        plot_grad(ms, bs, None, None, learning_rate, figsize=figsize)\n",
        "\n",
        "m = torch.tensor([[2.5]]).float()\n",
        "b = torch.tensor([[2]]).float()\n",
        "m.requires_grad = True\n",
        "b.requires_grad = True\n",
        "\n",
        "plot_optimization_steps(m, b, x, y, .02, steps=10, plot_grads=True)"
      ]
    },
    {
      "cell_type": "markdown",
      "metadata": {
        "id": "3QmzOZ1-Oqu8"
      },
      "source": [
        "After 10 optimization steps, we were not able to reach the minimal loss, so let's start over and optimize for 100 steps."
      ]
    },
    {
      "cell_type": "code",
      "execution_count": null,
      "metadata": {
        "id": "-m8vGQOgOqu9"
      },
      "outputs": [],
      "source": [
        "m = torch.tensor([[2.5]]).float()\n",
        "b = torch.tensor([[2]]).float()\n",
        "m.requires_grad = True\n",
        "b.requires_grad = True\n",
        "\n",
        "plot_optimization_steps(m, b, x, y, .02, steps=100, plot_grads=False)"
      ]
    },
    {
      "cell_type": "markdown",
      "metadata": {
        "id": "v3A6lgqpOqu9"
      },
      "source": [
        "After 100 steps we are pretty close to reaching the optimal point.\n",
        "For fun, go ahead and execute the code below, which performs 20 optimization steps with a larger learning rate."
      ]
    },
    {
      "cell_type": "code",
      "execution_count": null,
      "metadata": {
        "id": "l62dQWJROqu9"
      },
      "outputs": [],
      "source": [
        "m = torch.tensor([[2.5]]).float()\n",
        "b = torch.tensor([[2]]).float()\n",
        "m.requires_grad = True\n",
        "b.requires_grad = True\n",
        "\n",
        "plot_optimization_steps(m, b, x, y, .085, steps=20, plot_grads=True)"
      ]
    },
    {
      "cell_type": "markdown",
      "metadata": {
        "id": "bHwRsmTkOqu-"
      },
      "source": [
        "It is interesting that the learning rate is a little too big for the intercept (not big enough for it to jump away from the minimal point though), but it is better for our slope, which converges faster than the previous examples.\n",
        "In the future you will learn about optimizers that can handle this issue."
      ]
    },
    {
      "cell_type": "markdown",
      "metadata": {
        "id": "iymNI1hrOqu-"
      },
      "source": [
        "This process of gradient descent is the power house of deep learning.\n",
        "We will usually not be able to visualize the optimization process in detail because once we scale up the number of parameters we are optimizing we lose our ability to visualize the loss surface, but this process still happens in that high-dimensional space."
      ]
    },
    {
      "cell_type": "markdown",
      "metadata": {
        "id": "8ddyvUr9Oqu-"
      },
      "source": [
        "---\n",
        "\n",
        "# Lab Submission Information:\n",
        "\n",
        "Colab stores the saved changes of your notebook on your Google Drive (NOT the file on your device). Remember to download your notebook as an .ipynb file to get your changes, and submit the downloaded file. The file should contain all the changes you've made, including code and output cells: if you can see it in Colab, it will be stored in the .ipynb file. If you download the file as .py, it will not contain the outputs.\n",
        "\n",
        "Submit your .ipynb file online."
      ]
    }
  ],
  "metadata": {
    "colab": {
      "provenance": []
    },
    "kernelspec": {
      "display_name": "Python 3 (ipykernel)",
      "language": "python",
      "name": "python3"
    },
    "language_info": {
      "codemirror_mode": {
        "name": "ipython",
        "version": 3
      },
      "file_extension": ".py",
      "mimetype": "text/x-python",
      "name": "python",
      "nbconvert_exporter": "python",
      "pygments_lexer": "ipython3",
      "version": "3.9.13"
    }
  },
  "nbformat": 4,
  "nbformat_minor": 0
}